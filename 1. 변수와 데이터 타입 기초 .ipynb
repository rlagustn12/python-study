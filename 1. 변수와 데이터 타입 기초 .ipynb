{
 "cells": [
  {
   "cell_type": "markdown",
   "id": "490b02aa-0b0d-46cd-8154-69666a619453",
   "metadata": {},
   "source": [
    "# 1. 변수와 데이터 타입 기초\n",
    "## 1.1. 변수 선언과 값 할당¶\n",
    "변수는 데이터를 저장하는 공간을 나타냅니다. Python에서 변수는 특정 값에 이름을 붙여서 사용합니다."
   ]
  },
  {
   "cell_type": "code",
   "execution_count": 22,
   "id": "c97508d7-3197-4f80-9745-fcdbfd0d937b",
   "metadata": {},
   "outputs": [],
   "source": [
    "# 변수 선언과 값 할당\n",
    "x = 10           # 정수형\n",
    "name = \"Alice\"    # 문자열\n",
    "height = 1.75     # 실수형\n",
    "is_student = True # 불리언"
   ]
  },
  {
   "cell_type": "markdown",
   "id": "8db515ee-5250-4e3b-ba5b-a547e13f1e43",
   "metadata": {},
   "source": [
    "# 1.2. 데이터 타입 확인하기\n",
    "## Python에서는 type() 함수를 사용하여 변수의 데이터 타입을 확인할 수 있습니다."
   ]
  },
  {
   "cell_type": "code",
   "execution_count": 23,
   "id": "fe82c87f-7718-49e7-8e01-4bc9bec498ac",
   "metadata": {},
   "outputs": [
    {
     "name": "stdout",
     "output_type": "stream",
     "text": [
      "<class 'int'>\n",
      "<class 'str'>\n",
      "<class 'float'>\n",
      "<class 'bool'>\n"
     ]
    }
   ],
   "source": [
    "print(type(x))        # <class 'int'>\n",
    "print(type(name))     # <class 'str'>\n",
    "print(type(height))   # <class 'float'>\n",
    "print(type(is_student)) # <class 'bool'>"
   ]
  },
  {
   "cell_type": "code",
   "execution_count": 24,
   "id": "d80820d5-60a4-4e87-a586-df5ed9a7cf7c",
   "metadata": {},
   "outputs": [
    {
     "name": "stdout",
     "output_type": "stream",
     "text": [
      "x =  10\n",
      "name =  Alice\n",
      "height =  1.75\n",
      "is_student =  True\n"
     ]
    }
   ],
   "source": [
    "print('x = ', x)      \n",
    "print('name = ', name)     \n",
    "print('height = ', height)   \n",
    "print('is_student = ', is_student)"
   ]
  },
  {
   "cell_type": "markdown",
   "id": "99da3362-80e9-4d31-bb05-c6c5ea3ea44c",
   "metadata": {},
   "source": [
    "# 1.3. 데이터 타입 변환하기¶\n",
    "## Python에서는 데이터를 다른 타입으로 변환할 수 있습니다. 예를 들어, 정수를 실수로 변환하거나 문자열을 숫자로 변환할 수 있습니다."
   ]
  },
  {
   "cell_type": "code",
   "execution_count": 25,
   "id": "da6e83b5-b635-45d5-9350-9cc99b5cf1ab",
   "metadata": {},
   "outputs": [
    {
     "name": "stdout",
     "output_type": "stream",
     "text": [
      "100\n",
      "1.75\n"
     ]
    }
   ],
   "source": [
    "# 데이터 타입 변환 예제\n",
    "num_str = \"100\"     # 문자열\n",
    "num_int = int(num_str)  # 문자열을 정수로 변환\n",
    "print(num_int)       # 100\n",
    "\n",
    "height_str = str(height)  # 실수를 문자열로 변환\n",
    "print(height_str)   # '1.75'"
   ]
  },
  {
   "cell_type": "markdown",
   "id": "02fe0fe6-abf8-4642-b564-bbdb72360da8",
   "metadata": {},
   "source": [
    "# 2. 다양한 데이터 타입 실습\n",
    "## 2.1. 정수 (int)\n",
    "정수는 소수점이 없는 숫자를 나타냅니다."
   ]
  },
  {
   "cell_type": "code",
   "execution_count": 1,
   "id": "4b3d95c1-9960-4032-95f3-72528bb8ee58",
   "metadata": {},
   "outputs": [
    {
     "name": "stdout",
     "output_type": "stream",
     "text": [
      "합: 43\n"
     ]
    }
   ],
   "source": [
    "# 정수 예제\n",
    "num1 = 50\n",
    "num2 = -7\n",
    "sum_result = num1 + num2\n",
    "print(\"합:\", sum_result)  # 43"
   ]
  },
  {
   "cell_type": "markdown",
   "id": "4406ff64-0997-4a11-a24e-41268672a065",
   "metadata": {},
   "source": [
    "## 2.2. 실수 (float)\n",
    "실수는 소수점이 있는 숫자를 나타냅니다."
   ]
  },
  {
   "cell_type": "code",
   "execution_count": 6,
   "id": "ae7c321d-31ee-4ef6-9667-a996c565da5e",
   "metadata": {},
   "outputs": [
    {
     "name": "stdout",
     "output_type": "stream",
     "text": [
      "BMI: 23.020408163265305\n"
     ]
    }
   ],
   "source": [
    "# 실수 예제\n",
    "height = 1.75\n",
    "weight = 70.5\n",
    "bmi = weight / (height ** 2)  # BMI 계산\n",
    "print(\"BMI:\", bmi)  # 22.98 (대략적인 결과)"
   ]
  },
  {
   "cell_type": "markdown",
   "id": "18338485-d13d-4d6a-9e4c-5c750fdf85ad",
   "metadata": {},
   "source": [
    "## 2.3. 문자열 (str)\n",
    "문자열은 작은따옴표(') 또는 큰따옴표(\")로 감싸서 만들 수 있습니다."
   ]
  },
  {
   "cell_type": "code",
   "execution_count": 11,
   "id": "ad701d3d-aae6-45df-8628-485e6139f1fb",
   "metadata": {},
   "outputs": [
    {
     "name": "stdout",
     "output_type": "stream",
     "text": [
      "Hello, World!\n",
      "Hello Alice!\n"
     ]
    }
   ],
   "source": [
    "# 문자열 예제\n",
    "greeting = \"Hello, World!\"\n",
    "print(greeting)  # Hello, World!\n",
    "# 문자열 연결 (concatenation)\n",
    "full_greeting = \"Hello\" + \" \" + \"Alice!\"\n",
    "print(full_greeting)  # Hello Alice!"
   ]
  },
  {
   "cell_type": "markdown",
   "id": "c6aeba60-f845-49d0-808b-4da17f0ace4d",
   "metadata": {},
   "source": [
    "## 2.4. 불리언 (bool)\n",
    "불리언은 True 또는 False 값만 가질 수 있는 데이터 타입입니다."
   ]
  },
  {
   "cell_type": "code",
   "execution_count": 13,
   "id": "9653e3e1-313d-4182-b8fb-7a4b35f467fe",
   "metadata": {},
   "outputs": [
    {
     "name": "stdout",
     "output_type": "stream",
     "text": [
      "False\n"
     ]
    }
   ],
   "source": [
    "b_txt = False\n",
    "print(b_txt)"
   ]
  },
  {
   "cell_type": "code",
   "execution_count": 14,
   "id": "7eab799d-a0b1-4644-ad9d-a89bba146f42",
   "metadata": {},
   "outputs": [
    {
     "name": "stdout",
     "output_type": "stream",
     "text": [
      "거짓\n"
     ]
    }
   ],
   "source": [
    "if 1 == False:\n",
    "    print('참')\n",
    "else:\n",
    "    print('거짓')"
   ]
  },
  {
   "cell_type": "code",
   "execution_count": 15,
   "id": "5eb2caf4-bbcb-4c2c-a816-a3aba2e73e60",
   "metadata": {},
   "outputs": [
    {
     "name": "stdout",
     "output_type": "stream",
     "text": [
      "참\n"
     ]
    }
   ],
   "source": [
    "if 0 == False:\n",
    "    print('참')\n",
    "else:\n",
    "    print('거짓')"
   ]
  },
  {
   "cell_type": "code",
   "execution_count": 16,
   "id": "6e20c0fb-85b9-47e1-96b7-cc7f67ac81ea",
   "metadata": {},
   "outputs": [
    {
     "name": "stdout",
     "output_type": "stream",
     "text": [
      "비가 오나요? True\n",
      "맑은 날인가요? False\n"
     ]
    }
   ],
   "source": [
    "# 불리언 예제\n",
    "is_raining = True\n",
    "is_sunny = False\n",
    "print(\"비가 오나요?\", is_raining)  # True\n",
    "print(\"맑은 날인가요?\", is_sunny)  # False"
   ]
  },
  {
   "cell_type": "markdown",
   "id": "16396189-35a0-46fc-ad88-a99dd7a4d359",
   "metadata": {},
   "source": [
    "# 3. 데이터 타입 연산\n",
    "## 3.1 정수와 실수 연산\n",
    "정수와 실수는 서로 연산이 가능하며, 실수 결과를 반환합니다."
   ]
  },
  {
   "cell_type": "code",
   "execution_count": 19,
   "id": "f58975d6-dfeb-45c3-82f3-22ad848b9c3a",
   "metadata": {},
   "outputs": [],
   "source": [
    "# 정수와 실수 연산\n",
    "num1 = 10\n",
    "num2 = 3"
   ]
  },
  {
   "cell_type": "code",
   "execution_count": 18,
   "id": "eaccd684-fe84-4ac4-9f18-9a71c588c34e",
   "metadata": {},
   "outputs": [
    {
     "name": "stdout",
     "output_type": "stream",
     "text": [
      "덧셈 결과: 13\n"
     ]
    }
   ],
   "source": [
    "# 덧셈\n",
    "sum_result = num1 + num2  # 10 + 3 = 13\n",
    "print(\"덧셈 결과:\", sum_result)"
   ]
  },
  {
   "cell_type": "code",
   "execution_count": 20,
   "id": "0dcdf778-fb81-49c6-9842-6f6f9b8d7982",
   "metadata": {},
   "outputs": [
    {
     "name": "stdout",
     "output_type": "stream",
     "text": [
      "나눗셈 결과: 3.3333333333333335\n"
     ]
    }
   ],
   "source": [
    "# 나눗셈 (결과는 실수형)\n",
    "division_result = num1 / num2  # 10 / 3 = 3.333...\n",
    "print(\"나눗셈 결과:\", division_result)"
   ]
  },
  {
   "cell_type": "code",
   "execution_count": 21,
   "id": "b789f30f-8490-4123-800e-3bcbb0566d55",
   "metadata": {},
   "outputs": [
    {
     "name": "stdout",
     "output_type": "stream",
     "text": [
      "나머지: 1\n"
     ]
    }
   ],
   "source": [
    "# 나머지 구하기 (정수형)\n",
    "mod_result = num1 % num2  # 10 % 3 = 1\n",
    "print(\"나머지:\", mod_result)"
   ]
  },
  {
   "cell_type": "markdown",
   "id": "c4ce823d-90b6-43a4-b1e3-564694231acc",
   "metadata": {},
   "source": [
    "# 문제 1: 변수 선언과 연산¶\n",
    "## 정수 변수 a = 15, b = 4를 선언하고, 두 변수의 합, 차, 곱, 나눗셈 결과를 각각 출력하는 프로그램을 작성하세요."
   ]
  },
  {
   "cell_type": "code",
   "execution_count": 58,
   "id": "7a87a673-9072-4635-a001-6ad6e0f937fe",
   "metadata": {},
   "outputs": [
    {
     "name": "stdout",
     "output_type": "stream",
     "text": [
      "a + b = 19\n",
      "a - b = 11\n",
      "a * b = 60\n",
      "a / b = 3.75\n"
     ]
    }
   ],
   "source": [
    "a = 15\n",
    "b = 4\n",
    "\n",
    "c = a + b\n",
    "print('a + b =', c )\n",
    "\n",
    "c = a - b\n",
    "print('a - b =', c )\n",
    "\n",
    "c = a * b\n",
    "print('a * b =', c )\n",
    "\n",
    "c = a / b\n",
    "print('a / b =', c )"
   ]
  },
  {
   "cell_type": "markdown",
   "id": "272f208e-f4d1-4584-be40-b8ba1dd61258",
   "metadata": {},
   "source": [
    "# 문제 2: 문자열 다루기\n",
    "## 사용자의 이름을 변수에 입력하고, 그 이름을 \"Hello, [이름]!\" 형식으로 출력하는 프로그램을 작성하세요."
   ]
  },
  {
   "cell_type": "code",
   "execution_count": 43,
   "id": "1ece6fac-e7e3-48a3-b9f7-5c5ea51b6045",
   "metadata": {},
   "outputs": [
    {
     "name": "stdout",
     "output_type": "stream",
     "text": [
      "Hello, [김현수]!\n"
     ]
    }
   ],
   "source": [
    "name = \"김현수\"\n",
    "\n",
    "print(\"Hello, [\" + name + \"]!\")"
   ]
  },
  {
   "cell_type": "code",
   "execution_count": 55,
   "id": "904afb81-21db-4fa2-8007-25e83222dd96",
   "metadata": {},
   "outputs": [
    {
     "name": "stdout",
     "output_type": "stream",
     "text": [
      "Hello, [김현수]!\n"
     ]
    }
   ],
   "source": [
    "print(f\"Hello, [{name}]!\")"
   ]
  },
  {
   "cell_type": "markdown",
   "id": "cd4f02a7-3a6f-4628-b62d-7e803e60ffa9",
   "metadata": {},
   "source": [
    "# 문제 3: BMI 계산기\n",
    "## 키와 몸무게를 입력받아 BMI(체질량지수)를 계산하는 프로그램을 작성하세요.\n",
    "BMI 계산 공식: BMI = 체중(kg) / (신장(m) ** 2)"
   ]
  },
  {
   "cell_type": "code",
   "execution_count": 45,
   "id": "95eef36a-abac-4020-b9c2-35b9c4a209bd",
   "metadata": {},
   "outputs": [
    {
     "name": "stdout",
     "output_type": "stream",
     "text": [
      "체질량지수: 24.394463667820073\n"
     ]
    }
   ],
   "source": [
    "height = 1.70\n",
    "weight - 60.0\n",
    "bmi = weight / (height ** 2)  \n",
    "print(\"체질량지수:\", bmi)"
   ]
  },
  {
   "cell_type": "code",
   "execution_count": null,
   "id": "896b6235-1bec-45dd-a84c-8302cce34a95",
   "metadata": {},
   "outputs": [],
   "source": []
  }
 ],
 "metadata": {
  "kernelspec": {
   "display_name": "Python 3 (ipykernel)",
   "language": "python",
   "name": "python3"
  },
  "language_info": {
   "codemirror_mode": {
    "name": "ipython",
    "version": 3
   },
   "file_extension": ".py",
   "mimetype": "text/x-python",
   "name": "python",
   "nbconvert_exporter": "python",
   "pygments_lexer": "ipython3",
   "version": "3.12.8"
  }
 },
 "nbformat": 4,
 "nbformat_minor": 5
}
