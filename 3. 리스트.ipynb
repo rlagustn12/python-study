{
 "cells": [
  {
   "cell_type": "code",
   "execution_count": 17,
   "id": "b3904ee6-01d0-44dd-af1e-78c5447dc93e",
   "metadata": {},
   "outputs": [
    {
     "data": {
      "text/plain": [
       "'C:\\\\Users\\\\305'"
      ]
     },
     "execution_count": 17,
     "metadata": {},
     "output_type": "execute_result"
    }
   ],
   "source": [
    "# 프로그램의 위치 찾기\n",
    "\n",
    "import os\n",
    "os.getcwd()               # get Current Work Directory   -> 내 프로그램의 저장 위치"
   ]
  },
  {
   "cell_type": "code",
   "execution_count": 5,
   "id": "3bd8125a-30fb-47c8-ae26-ae451a81f0a7",
   "metadata": {},
   "outputs": [
    {
     "data": {
      "text/plain": [
       "['삼성전자', 'SK하이닉스', '네이버']"
      ]
     },
     "execution_count": 5,
     "metadata": {},
     "output_type": "execute_result"
    }
   ],
   "source": [
    "company_list = ['삼성전자', 'SK하이닉스', '네이버']\n",
    "company_list"
   ]
  },
  {
   "cell_type": "code",
   "execution_count": 6,
   "id": "f32628f3-701b-4744-a192-9a39c8832b3c",
   "metadata": {},
   "outputs": [
    {
     "data": {
      "text/plain": [
       "['삼성전자', 'SK하이닉스', '네이버']"
      ]
     },
     "execution_count": 6,
     "metadata": {},
     "output_type": "execute_result"
    }
   ],
   "source": [
    "company_list "
   ]
  },
  {
   "cell_type": "code",
   "execution_count": 7,
   "id": "bd7ed2d8-a109-4a64-9fb6-9b46b748c9c9",
   "metadata": {},
   "outputs": [
    {
     "data": {
      "text/plain": [
       "list"
      ]
     },
     "execution_count": 7,
     "metadata": {},
     "output_type": "execute_result"
    }
   ],
   "source": [
    "type(company_list)"
   ]
  },
  {
   "cell_type": "code",
   "execution_count": 10,
   "id": "d9ce40e4-fbe6-4877-8de1-eb371a99e4f8",
   "metadata": {},
   "outputs": [
    {
     "name": "stdout",
     "output_type": "stream",
     "text": [
      "삼성전자\n",
      "SK하이닉스\n",
      "네이버\n",
      "SK하이닉스\n"
     ]
    }
   ],
   "source": [
    "print(company_list[0])             # 0 은 1번 요소\n",
    "print(company_list[1])             # 1 은 2번 요소\n",
    "print(company_list[-1])            # -1 은 뒤에서 1번 요소\n",
    "print(company_list[-2])            # -2 은 뒤에서 2번 요소"
   ]
  },
  {
   "cell_type": "code",
   "execution_count": 11,
   "id": "c9f6e0c9-164d-4671-977b-666ad600b3b0",
   "metadata": {},
   "outputs": [
    {
     "data": {
      "text/plain": [
       "['애플', '구글', '테슬라']"
      ]
     },
     "execution_count": 11,
     "metadata": {},
     "output_type": "execute_result"
    }
   ],
   "source": [
    "company_list[0] = '애플'\n",
    "company_list[1] = '구글'\n",
    "company_list[2] = '테슬라'\n",
    "company_list                           # 리스트는 바꿀수 있다"
   ]
  },
  {
   "cell_type": "code",
   "execution_count": 12,
   "id": "5a7aca16-32c7-4f76-90be-ed8b7e613bd2",
   "metadata": {},
   "outputs": [
    {
     "data": {
      "text/plain": [
       "['애플', '구글', '테슬라', '마이크로소프트']"
      ]
     },
     "execution_count": 12,
     "metadata": {},
     "output_type": "execute_result"
    }
   ],
   "source": [
    "company_list.append('마이크로소프트')         # a 후 TAB 버튼 누르면 append 나오면서 추가가능(맨뒤에)\n",
    "company_list    "
   ]
  },
  {
   "cell_type": "code",
   "execution_count": 13,
   "id": "330c52f3-db4b-4af9-af22-ea56046850b2",
   "metadata": {},
   "outputs": [
    {
     "data": {
      "text/plain": [
       "['구글', '테슬라', '마이크로소프트']"
      ]
     },
     "execution_count": 13,
     "metadata": {},
     "output_type": "execute_result"
    }
   ],
   "source": [
    "del company_list[0]             # 리스트의 0번째 요소를 삭제\n",
    "company_list"
   ]
  },
  {
   "cell_type": "code",
   "execution_count": 16,
   "id": "6ad06efe-ecfc-4248-9a16-333e2652ef6f",
   "metadata": {},
   "outputs": [
    {
     "data": {
      "text/plain": [
       "3"
      ]
     },
     "execution_count": 16,
     "metadata": {},
     "output_type": "execute_result"
    }
   ],
   "source": [
    "len(company_list)             # 리스트 요소의 갯수 확인"
   ]
  },
  {
   "cell_type": "code",
   "execution_count": 18,
   "id": "d85cfffe-3791-4025-bdf8-58ea5b936d3e",
   "metadata": {},
   "outputs": [
    {
     "data": {
      "text/plain": [
       "[1, 2, 3, 4, 5, 6, 7, 8, 9]"
      ]
     },
     "execution_count": 18,
     "metadata": {},
     "output_type": "execute_result"
    }
   ],
   "source": [
    "num_list = [1, 2, 3, 4, 5, 6, 7, 8, 9]\n",
    "num_list"
   ]
  },
  {
   "cell_type": "code",
   "execution_count": 19,
   "id": "1288b689-4b69-4efd-912d-ce60e4901396",
   "metadata": {},
   "outputs": [
    {
     "data": {
      "text/plain": [
       "1"
      ]
     },
     "execution_count": 19,
     "metadata": {},
     "output_type": "execute_result"
    }
   ],
   "source": [
    "num_list[0]"
   ]
  },
  {
   "cell_type": "code",
   "execution_count": 21,
   "id": "848d7168-abca-4f10-96a0-e34d83f19635",
   "metadata": {},
   "outputs": [
    {
     "data": {
      "text/plain": [
       "[1, 2, 3, 4]"
      ]
     },
     "execution_count": 21,
     "metadata": {},
     "output_type": "execute_result"
    }
   ],
   "source": [
    "num_list[0:4]              # 0이 1번 4에서 -1 까지 출력해라"
   ]
  },
  {
   "cell_type": "code",
   "execution_count": 22,
   "id": "b136d0dd-b7db-4718-8e36-7683900a93b0",
   "metadata": {},
   "outputs": [
    {
     "data": {
      "text/plain": [
       "[1, 2, 3, 4]"
      ]
     },
     "execution_count": 22,
     "metadata": {},
     "output_type": "execute_result"
    }
   ],
   "source": [
    "num_list[:4]               # 첫번째는 생략하면 첫번째부터 목표치까지 출력"
   ]
  },
  {
   "cell_type": "code",
   "execution_count": 23,
   "id": "e696b110-2c70-4c58-b704-20b981d64921",
   "metadata": {},
   "outputs": [
    {
     "data": {
      "text/plain": [
       "[3, 4, 5]"
      ]
     },
     "execution_count": 23,
     "metadata": {},
     "output_type": "execute_result"
    }
   ],
   "source": [
    "num_list[2:5]"
   ]
  },
  {
   "cell_type": "code",
   "execution_count": 24,
   "id": "d49462da-9b3b-4a12-a867-5dc646b3c775",
   "metadata": {},
   "outputs": [
    {
     "data": {
      "text/plain": [
       "[6, 7, 8, 9]"
      ]
     },
     "execution_count": 24,
     "metadata": {},
     "output_type": "execute_result"
    }
   ],
   "source": [
    "num_list[5:]               # 뒤에도 생략시 끝까지 출력"
   ]
  },
  {
   "cell_type": "code",
   "execution_count": 26,
   "id": "f5cdaf8a-319b-4f6e-9743-89ea5f4b8123",
   "metadata": {},
   "outputs": [
    {
     "data": {
      "text/plain": [
       "[1, 3, 5, 7, 9]"
      ]
     },
     "execution_count": 26,
     "metadata": {},
     "output_type": "execute_result"
    }
   ],
   "source": [
    "num_list[::2]              # 2씩 증가하며 출력해라  /  초기:목표-1:증가치   / 위에는 증가치 다 생략됨"
   ]
  },
  {
   "cell_type": "code",
   "execution_count": 28,
   "id": "3962b406-e444-4c07-a204-fe1334bcb2e3",
   "metadata": {},
   "outputs": [
    {
     "name": "stdout",
     "output_type": "stream",
     "text": [
      "대검을(를) 확인했습니다\n",
      "창닫기\n",
      "포션을(를) 확인했습니다\n",
      "창닫기\n",
      "마법서을(를) 확인했습니다\n",
      "창닫기\n"
     ]
    }
   ],
   "source": [
    "inventory = ['대검', '포션', '마법서']\n",
    "\n",
    "for item in inventory:\n",
    "    print(item + '을(를) 확인했습니다')\n",
    "    print('창닫기')"
   ]
  },
  {
   "cell_type": "code",
   "execution_count": 34,
   "id": "c4ca95a7-05a9-46af-a6a0-3b2af143118d",
   "metadata": {},
   "outputs": [],
   "source": [
    "game_map = [                     # 리스트 [리스트 [  ], [  ], [  ]            ]  리스트 안에 리스트가 있다\n",
    "      ['대검','포션', None],\n",
    "      [None, '보물상자', '포션'],\n",
    "      ['몬스터', None, '열쇠']\n",
    "]"
   ]
  },
  {
   "cell_type": "code",
   "execution_count": 35,
   "id": "dd144bd0-9dc2-48b9-93bb-6e352b525121",
   "metadata": {},
   "outputs": [
    {
     "name": "stdout",
     "output_type": "stream",
     "text": [
      "['대검', '포션', None]\n",
      "item  대검\n",
      "item  포션\n",
      "item  None\n",
      "[None, '보물상자', '포션']\n",
      "item  None\n",
      "item  보물상자\n",
      "item  포션\n",
      "['몬스터', None, '열쇠']\n",
      "item  몬스터\n",
      "item  None\n",
      "item  열쇠\n"
     ]
    }
   ],
   "source": [
    "for game in game_map:\n",
    "    print(game)\n",
    "    for item in game:\n",
    "        print('item ', item)"
   ]
  },
  {
   "cell_type": "code",
   "execution_count": 38,
   "id": "c4628f44-b378-40b5-ad67-4ca724389334",
   "metadata": {},
   "outputs": [
    {
     "data": {
      "text/plain": [
       "str"
      ]
     },
     "execution_count": 38,
     "metadata": {},
     "output_type": "execute_result"
    }
   ],
   "source": [
    "type(game_map[0][0])"
   ]
  },
  {
   "cell_type": "code",
   "execution_count": 46,
   "id": "17423e9f-11cf-4895-843e-4ea0a511e028",
   "metadata": {},
   "outputs": [
    {
     "data": {
      "text/plain": [
       "'열쇠'"
      ]
     },
     "execution_count": 46,
     "metadata": {},
     "output_type": "execute_result"
    }
   ],
   "source": [
    "game_map[2][2]             # [몇번째줄] [몇번째 아이템]\n",
    "                           # 주의해서 사용할 것"
   ]
  },
  {
   "cell_type": "code",
   "execution_count": 47,
   "id": "7e51d076-866c-48cc-9bcb-2daa9e0459ad",
   "metadata": {},
   "outputs": [
    {
     "name": "stdout",
     "output_type": "stream",
     "text": [
      "최고 점수 :  200\n"
     ]
    }
   ],
   "source": [
    "# 최고 점수 찾기\n",
    "\n",
    "scores = [120, 150, 180, 200, 170]\n",
    "max_score = 0\n",
    "for score in scores:\n",
    "    if score > max_score:\n",
    "        max_score = score\n",
    "print('최고 점수 : ', max_score)"
   ]
  },
  {
   "cell_type": "code",
   "execution_count": 74,
   "id": "72a6a94d-2a3b-4c5f-86f8-935f6059be1d",
   "metadata": {},
   "outputs": [],
   "source": [
    "def user_max(scores, max_score=0):\n",
    "    for score in scores:\n",
    "        if score > max_score:\n",
    "           max_score = score\n",
    "    return max_score"
   ]
  },
  {
   "cell_type": "code",
   "execution_count": 77,
   "id": "d0d36407-f3a7-4834-9043-effd2e568d1b",
   "metadata": {
    "scrolled": true
   },
   "outputs": [
    {
     "data": {
      "text/plain": [
       "200"
      ]
     },
     "execution_count": 77,
     "metadata": {},
     "output_type": "execute_result"
    }
   ],
   "source": [
    "scores = [120, 150, 180, 200, 170]\n",
    "user_max(scores)"
   ]
  },
  {
   "cell_type": "code",
   "execution_count": 48,
   "id": "0a43bea5-f36b-46ed-b2f6-9369bcbf7d93",
   "metadata": {},
   "outputs": [
    {
     "data": {
      "text/plain": [
       "200"
      ]
     },
     "execution_count": 48,
     "metadata": {},
     "output_type": "execute_result"
    }
   ],
   "source": [
    "max(scores)"
   ]
  },
  {
   "cell_type": "code",
   "execution_count": 49,
   "id": "eae9b8ee-5701-428e-8fe1-82c2a07a66bb",
   "metadata": {},
   "outputs": [
    {
     "data": {
      "text/plain": [
       "120"
      ]
     },
     "execution_count": 49,
     "metadata": {},
     "output_type": "execute_result"
    }
   ],
   "source": [
    "min(scores)"
   ]
  },
  {
   "cell_type": "code",
   "execution_count": 51,
   "id": "66e8d9f2-d954-4fe3-b26e-63f90909a7ef",
   "metadata": {},
   "outputs": [
    {
     "data": {
      "text/plain": [
       "820"
      ]
     },
     "execution_count": 51,
     "metadata": {},
     "output_type": "execute_result"
    }
   ],
   "source": [
    "sum(scores)"
   ]
  },
  {
   "cell_type": "code",
   "execution_count": 53,
   "id": "13b3b97c-c534-4bdb-ab4f-03500a164af3",
   "metadata": {},
   "outputs": [],
   "source": [
    "# 실습 문제 : 합계 구하기\n",
    "\n",
    "rooms = [\n",
    "     [3, 1, 2],\n",
    "     [2, 0, 1],\n",
    "     [1, 3, 4]\n",
    "]"
   ]
  },
  {
   "cell_type": "code",
   "execution_count": 68,
   "id": "361a54d9-2dc4-45d4-b05f-b8650ecd0e57",
   "metadata": {},
   "outputs": [
    {
     "name": "stdout",
     "output_type": "stream",
     "text": [
      "17\n"
     ]
    }
   ],
   "source": [
    "rooms = [\n",
    "     [3, 1, 2],\n",
    "     [2, 0, 1],\n",
    "     [1, 3, 4]\n",
    "]\n",
    "\n",
    "total = 0\n",
    "\n",
    "for room in rooms:\n",
    "    total = total + sum(room)\n",
    "\n",
    "print(total)"
   ]
  },
  {
   "cell_type": "code",
   "execution_count": 69,
   "id": "f3b130be-ccee-4abe-a33d-3340614e3018",
   "metadata": {},
   "outputs": [
    {
     "name": "stdout",
     "output_type": "stream",
     "text": [
      "17\n"
     ]
    }
   ],
   "source": [
    "total = 0\n",
    "\n",
    "for room in rooms:\n",
    "    for num in room:\n",
    "       total = total + num\n",
    "\n",
    "print(total)"
   ]
  },
  {
   "cell_type": "code",
   "execution_count": null,
   "id": "5807c7c5-43c9-47bf-b240-97f0b9701daa",
   "metadata": {},
   "outputs": [],
   "source": []
  },
  {
   "cell_type": "code",
   "execution_count": null,
   "id": "4ea1b9a2-ae40-4a5a-b473-df14143cd3ea",
   "metadata": {},
   "outputs": [],
   "source": []
  }
 ],
 "metadata": {
  "kernelspec": {
   "display_name": "Python 3 (ipykernel)",
   "language": "python",
   "name": "python3"
  },
  "language_info": {
   "codemirror_mode": {
    "name": "ipython",
    "version": 3
   },
   "file_extension": ".py",
   "mimetype": "text/x-python",
   "name": "python",
   "nbconvert_exporter": "python",
   "pygments_lexer": "ipython3",
   "version": "3.12.8"
  }
 },
 "nbformat": 4,
 "nbformat_minor": 5
}
