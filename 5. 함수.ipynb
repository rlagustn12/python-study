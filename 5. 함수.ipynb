{
 "cells": [
  {
   "cell_type": "code",
   "execution_count": 25,
   "id": "31902fbf-dd81-40df-8c30-4aa7167c4f43",
   "metadata": {},
   "outputs": [],
   "source": [
    "# 함수는 def 로 시작  함수명( 함수 안에서 사용할 변수들 ):\n",
    "\n",
    "def add(a, b):\n",
    "    return a + b\n",
    "\n",
    "def sub(a, b):\n",
    "    return a - b\n",
    "\n",
    "def mul(a, b):\n",
    "    return a * b\n",
    "\n",
    "def div(a, b):\n",
    "    if b == 0:\n",
    "        return \"b = 0\"\n",
    "    return a / b"
   ]
  },
  {
   "cell_type": "code",
   "execution_count": 26,
   "id": "edae8093-a3f7-4cbc-9a8c-c8f875fc413d",
   "metadata": {},
   "outputs": [
    {
     "data": {
      "text/plain": [
       "3"
      ]
     },
     "execution_count": 26,
     "metadata": {},
     "output_type": "execute_result"
    }
   ],
   "source": [
    "c = 1\n",
    "d = 2\n",
    "add(c, d)"
   ]
  },
  {
   "cell_type": "code",
   "execution_count": 28,
   "id": "6d24c81a-706e-47ad-8d1c-4011ddf275e0",
   "metadata": {},
   "outputs": [
    {
     "data": {
      "text/plain": [
       "-1"
      ]
     },
     "execution_count": 28,
     "metadata": {},
     "output_type": "execute_result"
    }
   ],
   "source": [
    "sub(c, d)"
   ]
  },
  {
   "cell_type": "code",
   "execution_count": 29,
   "id": "e48c5e85-988e-4492-bcb1-cafd2b031532",
   "metadata": {},
   "outputs": [
    {
     "data": {
      "text/plain": [
       "2"
      ]
     },
     "execution_count": 29,
     "metadata": {},
     "output_type": "execute_result"
    }
   ],
   "source": [
    "mul(c, d)"
   ]
  },
  {
   "cell_type": "code",
   "execution_count": 33,
   "id": "8eea23ae-9fc1-4989-bb65-ab47aa431d2b",
   "metadata": {},
   "outputs": [
    {
     "data": {
      "text/plain": [
       "0.5"
      ]
     },
     "execution_count": 33,
     "metadata": {},
     "output_type": "execute_result"
    }
   ],
   "source": [
    "div(c, d)"
   ]
  },
  {
   "cell_type": "code",
   "execution_count": 74,
   "id": "2b48505b-8aea-4091-8856-d1ed01084ba2",
   "metadata": {},
   "outputs": [
    {
     "data": {
      "text/plain": [
       "'b = 0'"
      ]
     },
     "execution_count": 74,
     "metadata": {},
     "output_type": "execute_result"
    }
   ],
   "source": [
    "c = 1\n",
    "d = 0\n",
    "div(c, d)"
   ]
  },
  {
   "cell_type": "code",
   "execution_count": 30,
   "id": "d3e13c07-0dbd-4ef0-8995-1e6c1d72c2f6",
   "metadata": {},
   "outputs": [],
   "source": [
    "def user_avg(a,b,c):\n",
    "    avg = (a + b + c) / 3\n",
    "    return avg"
   ]
  },
  {
   "cell_type": "code",
   "execution_count": 31,
   "id": "1db5ebcc-7bc5-419f-b09d-05d40c7556f7",
   "metadata": {},
   "outputs": [
    {
     "data": {
      "text/plain": [
       "2.0"
      ]
     },
     "execution_count": 31,
     "metadata": {},
     "output_type": "execute_result"
    }
   ],
   "source": [
    "result = user_avg(1,2,3)\n",
    "result"
   ]
  },
  {
   "cell_type": "markdown",
   "id": "c5adba10-f609-45c5-a181-d94b6b396f74",
   "metadata": {},
   "source": [
    "# 전역 변수와 지역 변수 사용"
   ]
  },
  {
   "cell_type": "code",
   "execution_count": 75,
   "id": "f4f5855a-3b20-4e04-8dd1-25b72516898c",
   "metadata": {},
   "outputs": [],
   "source": [
    "def user_avg(a, b, c):\n",
    "    avg = (a + b + c) / d\n",
    "    return avg"
   ]
  },
  {
   "cell_type": "code",
   "execution_count": 76,
   "id": "34a9e08b-3973-463f-abfb-99d1d93069dd",
   "metadata": {},
   "outputs": [
    {
     "data": {
      "text/plain": [
       "0.6"
      ]
     },
     "execution_count": 76,
     "metadata": {},
     "output_type": "execute_result"
    }
   ],
   "source": [
    "d = 10              #  전역 변수 > 함수 안에서도 사용가능\n",
    "user_avg(1,2,3)"
   ]
  },
  {
   "cell_type": "code",
   "execution_count": 77,
   "id": "ab822fad-e459-45ed-9d02-141d5ca17de0",
   "metadata": {},
   "outputs": [],
   "source": [
    "def user_avg(a, b, c):\n",
    "    global avg2             # global 은 지역 변수를 전역변수화 함.\n",
    "    avg2 = (a + b + c) / d"
   ]
  },
  {
   "cell_type": "code",
   "execution_count": 78,
   "id": "0dacfc79-34ea-4864-a0e0-526d06851ea2",
   "metadata": {},
   "outputs": [],
   "source": [
    "user_avg(1,2,3)"
   ]
  },
  {
   "cell_type": "code",
   "execution_count": 79,
   "id": "65615be6-be78-4072-a60f-0e38728c841f",
   "metadata": {},
   "outputs": [
    {
     "name": "stdout",
     "output_type": "stream",
     "text": [
      "0.6\n"
     ]
    }
   ],
   "source": [
    "print(avg2)"
   ]
  },
  {
   "cell_type": "markdown",
   "id": "b4b119d0-6102-477b-9fae-b3213228e3a9",
   "metadata": {},
   "source": [
    "# 변수값의 교환(swap)"
   ]
  },
  {
   "cell_type": "code",
   "execution_count": 34,
   "id": "8117061f-d256-4cfe-b4d6-782253f55ece",
   "metadata": {},
   "outputs": [
    {
     "name": "stdout",
     "output_type": "stream",
     "text": [
      "swap 전 na 값: 10 swap 전 nb 값: 20\n",
      "swap 후 na 값: 20 swap 후 nb 값: 20\n"
     ]
    }
   ],
   "source": [
    "na = 10\n",
    "nb = 20\n",
    "\n",
    "print(\"swap 전 na 값:\", na, \"swap 전 nb 값:\", nb)\n",
    "na = nb\n",
    "print(\"swap 후 na 값:\",na, \"swap 후 nb 값:\", nb)"
   ]
  },
  {
   "cell_type": "code",
   "execution_count": 35,
   "id": "69ba16b7-ff1c-4636-837f-73e3618ea409",
   "metadata": {},
   "outputs": [
    {
     "name": "stdout",
     "output_type": "stream",
     "text": [
      "swap 전 na 값: 10 swap 전 nb 값: 20\n",
      "swap 후 na 값: 20 swap 후 nb 값: 10\n"
     ]
    }
   ],
   "source": [
    "na = 10\n",
    "nb = 20\n",
    "\n",
    "print(\"swap 전 na 값:\", na, \"swap 전 nb 값:\", nb)\n",
    "temp = na\n",
    "na = nb\n",
    "nb = temp\n",
    "print(\"swap 후 na 값:\",na, \"swap 후 nb 값:\", nb)"
   ]
  },
  {
   "cell_type": "code",
   "execution_count": 36,
   "id": "bf5ccc54-27b0-4b33-be26-46f1804a0258",
   "metadata": {},
   "outputs": [
    {
     "name": "stdout",
     "output_type": "stream",
     "text": [
      "swap 전 na 값: 10 swap 전 nb 값: 20\n",
      "swap 후 na 값: 20 swap 후 nb 값: 10\n"
     ]
    }
   ],
   "source": [
    "def swapa(pa, pb):\n",
    "    temp = pa\n",
    "    pa = pb\n",
    "    pb = temp\n",
    "    return pa, pb\n",
    "\n",
    "na = 10\n",
    "nb = 20\n",
    "\n",
    "print(\"swap 전 na 값:\", na, \"swap 전 nb 값:\", nb)\n",
    "na, nb = swapa(na, nb)\n",
    "print(\"swap 후 na 값:\", na, \"swap 후 nb 값:\", nb)"
   ]
  },
  {
   "cell_type": "code",
   "execution_count": 37,
   "id": "141672a9-d1c8-4bae-9c21-32ac17addf8f",
   "metadata": {},
   "outputs": [
    {
     "name": "stdout",
     "output_type": "stream",
     "text": [
      "swap 전 na 값: 10 swap 전 nb 값: 20\n",
      "swap 후 na 값: 20 swap 후 nb 값: 10\n"
     ]
    }
   ],
   "source": [
    "def swapa():\n",
    "    global na, nb                # global : 밖의 값을 가져옴 \n",
    "    temp = na\n",
    "    na = nb\n",
    "    nb = temp\n",
    "\n",
    "na = 10\n",
    "nb = 20\n",
    "\n",
    "print(\"swap 전 na 값:\", na, \"swap 전 nb 값:\", nb)\n",
    "swapa()\n",
    "print(\"swap 후 na 값:\", na, \"swap 후 nb 값:\", nb)"
   ]
  },
  {
   "cell_type": "code",
   "execution_count": 50,
   "id": "9d672182-7ade-48b9-af80-0de30a4ff682",
   "metadata": {},
   "outputs": [],
   "source": [
    "def persona(width, height):\n",
    "    print(\" 함수 디폴트 값 없음, width =\", width, \" height = \",height)\n",
    "\n",
    "def personb(width=60, height=180):\n",
    "    print(\" 함수 디폴트 값 없음, width =\", width, \" height = \",height)"
   ]
  },
  {
   "cell_type": "code",
   "execution_count": 51,
   "id": "0f47c640-9284-4f81-86d4-eec99cc23aad",
   "metadata": {},
   "outputs": [
    {
     "name": "stdout",
     "output_type": "stream",
     "text": [
      " 함수 디폴트 값 없음, width = 10  height =  20\n"
     ]
    }
   ],
   "source": [
    "persona(10, 20)"
   ]
  },
  {
   "cell_type": "code",
   "execution_count": 52,
   "id": "4fce59b2-0a84-4f96-bdaf-8c8d3eca0fb2",
   "metadata": {},
   "outputs": [
    {
     "name": "stdout",
     "output_type": "stream",
     "text": [
      " 함수 디폴트 값 없음, width = 60  height =  180\n"
     ]
    }
   ],
   "source": [
    "personb()"
   ]
  },
  {
   "cell_type": "code",
   "execution_count": 53,
   "id": "f2297608-283d-4a14-b471-24bde3d8599c",
   "metadata": {},
   "outputs": [
    {
     "name": "stdout",
     "output_type": "stream",
     "text": [
      " 함수 디폴트 값 없음, width = 50  height =  180\n"
     ]
    }
   ],
   "source": [
    "personb(50)"
   ]
  },
  {
   "cell_type": "code",
   "execution_count": 54,
   "id": "633c38e2-40df-476a-95f6-a356fc87108a",
   "metadata": {},
   "outputs": [
    {
     "ename": "SyntaxError",
     "evalue": "invalid syntax (11254517.py, line 1)",
     "output_type": "error",
     "traceback": [
      "\u001b[1;36m  Cell \u001b[1;32mIn[54], line 1\u001b[1;36m\u001b[0m\n\u001b[1;33m    personb(,190)\u001b[0m\n\u001b[1;37m            ^\u001b[0m\n\u001b[1;31mSyntaxError\u001b[0m\u001b[1;31m:\u001b[0m invalid syntax\n"
     ]
    }
   ],
   "source": [
    "personb(,190)              # 파라미터는 순서대로 사용 할 수 있음. (한마디로 뒤에는 생략해도 값이 나오지만 앞에는 생략이 안됨)"
   ]
  },
  {
   "cell_type": "code",
   "execution_count": 70,
   "id": "8a801d78-5fbc-4a0b-9358-48cd45d521ee",
   "metadata": {},
   "outputs": [
    {
     "name": "stdout",
     "output_type": "stream",
     "text": [
      "[0]\n"
     ]
    }
   ],
   "source": [
    "def fget(nums=[0]):\n",
    "    return nums\n",
    "\n",
    "result1 = fget()\n",
    "print(result1)"
   ]
  },
  {
   "cell_type": "code",
   "execution_count": 71,
   "id": "7bb281da-3cf7-48c2-9fb4-0e690f2575e3",
   "metadata": {},
   "outputs": [
    {
     "name": "stdout",
     "output_type": "stream",
     "text": [
      "[1, 2, 3, 4, 5]\n"
     ]
    }
   ],
   "source": [
    "result2 = fget([1,2,3,4,5])\n",
    "print(result2)"
   ]
  },
  {
   "cell_type": "code",
   "execution_count": 72,
   "id": "856ec619-be02-4a6a-950c-8240f59e900c",
   "metadata": {},
   "outputs": [],
   "source": [
    "def fgets(nums=[0]):\n",
    "    for n in nums:\n",
    "        print(n)"
   ]
  },
  {
   "cell_type": "code",
   "execution_count": 73,
   "id": "b22b4ae8-7e24-4092-a380-cd00b9038af6",
   "metadata": {},
   "outputs": [
    {
     "name": "stdout",
     "output_type": "stream",
     "text": [
      "0\n"
     ]
    }
   ],
   "source": [
    "fgets()"
   ]
  },
  {
   "cell_type": "code",
   "execution_count": 69,
   "id": "e53526bc-1f5a-44ce-a1a8-615c2945f440",
   "metadata": {},
   "outputs": [
    {
     "name": "stdout",
     "output_type": "stream",
     "text": [
      "1\n",
      "2\n",
      "3\n",
      "4\n",
      "5\n"
     ]
    }
   ],
   "source": [
    "fgets([1,2,3,4,5])"
   ]
  },
  {
   "cell_type": "code",
   "execution_count": null,
   "id": "da937901-2b3d-4bd4-9925-73244231e834",
   "metadata": {},
   "outputs": [],
   "source": []
  }
 ],
 "metadata": {
  "kernelspec": {
   "display_name": "Python 3 (ipykernel)",
   "language": "python",
   "name": "python3"
  },
  "language_info": {
   "codemirror_mode": {
    "name": "ipython",
    "version": 3
   },
   "file_extension": ".py",
   "mimetype": "text/x-python",
   "name": "python",
   "nbconvert_exporter": "python",
   "pygments_lexer": "ipython3",
   "version": "3.12.8"
  }
 },
 "nbformat": 4,
 "nbformat_minor": 5
}
