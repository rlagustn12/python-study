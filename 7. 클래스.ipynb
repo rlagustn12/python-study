{
 "cells": [
  {
   "cell_type": "markdown",
   "id": "65ea6849-493f-43fb-8c84-fd5b745806e9",
   "metadata": {},
   "source": [
    "# 클래스는 1개 이상 함수, 변수로 정의됨, 상속 가능"
   ]
  },
  {
   "cell_type": "code",
   "execution_count": 32,
   "id": "23c6cbcb-5a56-4598-8cca-de79c055485a",
   "metadata": {},
   "outputs": [],
   "source": [
    "class cexam:\n",
    "    def fsam(self):\n",
    "        self.text = '멤버 함수(메소드)'\n",
    "        print(self.text)"
   ]
  },
  {
   "cell_type": "code",
   "execution_count": 33,
   "id": "6be90e43-1d10-48d8-821b-3b2a7ad83c4f",
   "metadata": {},
   "outputs": [],
   "source": [
    "ca = cexam()              #객체 생성"
   ]
  },
  {
   "cell_type": "code",
   "execution_count": 34,
   "id": "087eaa28-43bb-4b4e-b748-e6fb1dc454c8",
   "metadata": {},
   "outputs": [
    {
     "name": "stdout",
     "output_type": "stream",
     "text": [
      "<__main__.cexam object at 0x0000016B3EE246E0>\n"
     ]
    }
   ],
   "source": [
    "print(ca)                 # 객체 프린팅"
   ]
  },
  {
   "cell_type": "code",
   "execution_count": 35,
   "id": "26089840-c1b8-403a-b343-eb8630a187fe",
   "metadata": {},
   "outputs": [
    {
     "name": "stdout",
     "output_type": "stream",
     "text": [
      "멤버 함수(메소드)\n"
     ]
    }
   ],
   "source": [
    "ca.fsam()                 # 생성된 객체.멤버함수명()      - 함수를 실행 하는법"
   ]
  },
  {
   "cell_type": "code",
   "execution_count": 36,
   "id": "cf6bc479-9371-4b03-a504-f4fba3da91e8",
   "metadata": {},
   "outputs": [],
   "source": [
    "class cexam:\n",
    "    def fsama(self):\n",
    "        self.text = '멤버 함수(메소드)'\n",
    "        print(self.text)\n",
    "\n",
    "    def fsamb(self, pa):\n",
    "        self.x = pa\n",
    "        print('멤버 변수 x는 ', self.x)"
   ]
  },
  {
   "cell_type": "code",
   "execution_count": 10,
   "id": "b84fbcc9-22f0-4ac1-accc-511af6dc79fe",
   "metadata": {},
   "outputs": [],
   "source": [
    "ca = cexam()     # 객체 생성"
   ]
  },
  {
   "cell_type": "code",
   "execution_count": 11,
   "id": "468452f3-9425-457a-9019-5b510eafce07",
   "metadata": {},
   "outputs": [
    {
     "name": "stdout",
     "output_type": "stream",
     "text": [
      "<__main__.cexam object at 0x0000016B3EE22CF0>\n"
     ]
    }
   ],
   "source": [
    "print(ca)"
   ]
  },
  {
   "cell_type": "code",
   "execution_count": 12,
   "id": "df9cf6e7-eca6-49d9-97d0-4f49197a9d10",
   "metadata": {},
   "outputs": [
    {
     "name": "stdout",
     "output_type": "stream",
     "text": [
      "멤버 함수(메소드)\n"
     ]
    }
   ],
   "source": [
    "ca.fsama()"
   ]
  },
  {
   "cell_type": "code",
   "execution_count": 13,
   "id": "6187548b-ee19-4de7-82ec-db0cee908661",
   "metadata": {},
   "outputs": [
    {
     "name": "stdout",
     "output_type": "stream",
     "text": [
      "멤버 변수 x는  10\n"
     ]
    }
   ],
   "source": [
    "ca.fsamb(10)"
   ]
  },
  {
   "cell_type": "markdown",
   "id": "48b14291-1e4e-44a2-82b4-f7deaede650b",
   "metadata": {},
   "source": [
    "## 초기 메소드 __init__ "
   ]
  },
  {
   "cell_type": "code",
   "execution_count": 14,
   "id": "8df0e1fb-0c90-4b5f-a2a0-ce39788ce1dc",
   "metadata": {},
   "outputs": [],
   "source": [
    "class cexam():                             # init -예약된 멤버 함수    -> 객체 생성시 먼저 실행\n",
    "    def __init__(self, pa):             # 객체가 여기 pa 로 오고 밑으로 내려감\n",
    "        self.x = pa\n",
    "        print('멤버 변수 x는 ', self.x)\n",
    "    def fsam(self):\n",
    "        self.text = '멤버 함수(메소드)'\n",
    "        print(self.text)"
   ]
  },
  {
   "cell_type": "code",
   "execution_count": 15,
   "id": "17e8be0e-fdaa-4fae-9e71-5cd9e92d61d4",
   "metadata": {},
   "outputs": [
    {
     "name": "stdout",
     "output_type": "stream",
     "text": [
      "멤버 변수 x는  10\n"
     ]
    }
   ],
   "source": [
    "ca = cexam(10)                 # 객체 생성과 동시에 10값을 __init__(pa) 에 전달"
   ]
  },
  {
   "cell_type": "code",
   "execution_count": 16,
   "id": "a269cf1a-f73d-45f9-8907-f12345a3d780",
   "metadata": {},
   "outputs": [
    {
     "data": {
      "text/plain": [
       "<bound method cexam.fsam of <__main__.cexam object at 0x0000016B3EBB1D60>>"
      ]
     },
     "execution_count": 16,
     "metadata": {},
     "output_type": "execute_result"
    }
   ],
   "source": [
    "ca.fsam"
   ]
  },
  {
   "cell_type": "code",
   "execution_count": 17,
   "id": "46189f46-e13b-462c-ad16-9d2938914666",
   "metadata": {},
   "outputs": [
    {
     "data": {
      "text/plain": [
       "10"
      ]
     },
     "execution_count": 17,
     "metadata": {},
     "output_type": "execute_result"
    }
   ],
   "source": [
    "ca.x"
   ]
  },
  {
   "cell_type": "code",
   "execution_count": 18,
   "id": "2054c11d-3c75-420f-a21e-de11367eb539",
   "metadata": {},
   "outputs": [
    {
     "name": "stdout",
     "output_type": "stream",
     "text": [
      "멤버 변수 x는  30\n"
     ]
    }
   ],
   "source": [
    "cb = cexam(30)"
   ]
  },
  {
   "cell_type": "code",
   "execution_count": 20,
   "id": "19fc0215-1c8d-4710-972e-13e3fc557792",
   "metadata": {},
   "outputs": [
    {
     "data": {
      "text/plain": [
       "30"
      ]
     },
     "execution_count": 20,
     "metadata": {},
     "output_type": "execute_result"
    }
   ],
   "source": [
    "cb.x               # ca.x 하고는 다른 변수"
   ]
  },
  {
   "cell_type": "markdown",
   "id": "dd1603ba-5b30-4b15-99e0-02374072f0b9",
   "metadata": {},
   "source": [
    "## self 의 의미"
   ]
  },
  {
   "cell_type": "code",
   "execution_count": 23,
   "id": "b30a5f01-df71-43d6-8231-db37d0b9744c",
   "metadata": {},
   "outputs": [],
   "source": [
    "class cexam():                          \n",
    "    def __init__(self, pa, pb):           \n",
    "        self.x = pa          \n",
    "        y = pb\n",
    "        print('멤버 변수 x는 ', self.x)\n",
    "        print('변수 y는 ', y)\n",
    "    def fsam(self):\n",
    "        self.text = '멤버 함수(메소드)'\n",
    "        print(self.text)\n",
    "\n",
    "    def fsamb():                             # self라는 멤버 변수가 없음  / class 안에 self를 포함하지 않으면 정의는 되지만 실행은 안됨\n",
    "        print('멤버 함수가 아니다.')"
   ]
  },
  {
   "cell_type": "code",
   "execution_count": 29,
   "id": "1434da2f-b9f1-4b5a-9513-2f2c78c3da5f",
   "metadata": {},
   "outputs": [
    {
     "name": "stdout",
     "output_type": "stream",
     "text": [
      "멤버 변수 x는  10\n",
      "변수 y는  20\n"
     ]
    }
   ],
   "source": [
    "ca = cexam(10, 20)"
   ]
  },
  {
   "cell_type": "code",
   "execution_count": 30,
   "id": "bd409c89-4afc-4ebe-bde5-33fbc6e76c2d",
   "metadata": {},
   "outputs": [
    {
     "name": "stdout",
     "output_type": "stream",
     "text": [
      "멤버 함수(메소드)\n"
     ]
    }
   ],
   "source": [
    "ca.fsam()"
   ]
  },
  {
   "cell_type": "code",
   "execution_count": 31,
   "id": "57a9d6e2-d0a0-4932-8933-9e3928d15189",
   "metadata": {},
   "outputs": [
    {
     "ename": "TypeError",
     "evalue": "cexam.fsamb() takes 0 positional arguments but 1 was given",
     "output_type": "error",
     "traceback": [
      "\u001b[1;31m---------------------------------------------------------------------------\u001b[0m",
      "\u001b[1;31mTypeError\u001b[0m                                 Traceback (most recent call last)",
      "Cell \u001b[1;32mIn[31], line 1\u001b[0m\n\u001b[1;32m----> 1\u001b[0m ca\u001b[38;5;241m.\u001b[39mfsamb()\n",
      "\u001b[1;31mTypeError\u001b[0m: cexam.fsamb() takes 0 positional arguments but 1 was given"
     ]
    }
   ],
   "source": [
    "ca.fsamb()                                    # def fsamb(): 안에 self가 없어서 객체의 역할을 못함 그래서 안나옴"
   ]
  },
  {
   "cell_type": "markdown",
   "id": "f6df1624-04e1-4af1-8a03-8e46277b26d0",
   "metadata": {},
   "source": [
    "## 파이썬에서 변수와 기억장소(메모리) 할당"
   ]
  },
  {
   "cell_type": "code",
   "execution_count": 38,
   "id": "c5bb1463-cb6c-42b1-8de4-3aa9c44d1d3b",
   "metadata": {},
   "outputs": [],
   "source": [
    "class Calcurator:                             # 클래스 사용시 함수 첫번째 대문자로 (암묵적 약속)\n",
    "    def setinit(self):\n",
    "        self.result = 0\n",
    "    def adder(self, num):\n",
    "        self.result = self.result + num\n",
    "        return self.result"
   ]
  },
  {
   "cell_type": "code",
   "execution_count": 39,
   "id": "f59c9d66-ce5b-4f9e-90f3-f7d49d2b78d8",
   "metadata": {},
   "outputs": [],
   "source": [
    "cal1 = Calcurator()"
   ]
  },
  {
   "cell_type": "code",
   "execution_count": 40,
   "id": "747b616c-d210-4392-8dab-3056f95a06d1",
   "metadata": {},
   "outputs": [],
   "source": [
    "cal1.setinit()"
   ]
  },
  {
   "cell_type": "code",
   "execution_count": 60,
   "id": "c69ac8bb-c6fa-42bc-a9f1-15b280149655",
   "metadata": {},
   "outputs": [
    {
     "name": "stdout",
     "output_type": "stream",
     "text": [
      "12\n"
     ]
    }
   ],
   "source": [
    "print(cal1.result)"
   ]
  },
  {
   "cell_type": "code",
   "execution_count": 61,
   "id": "120d8bbe-e0e4-473b-b983-6f95e6feef01",
   "metadata": {},
   "outputs": [],
   "source": [
    "cal2 = Calcurator()\n",
    "cal2.setinit()"
   ]
  },
  {
   "cell_type": "code",
   "execution_count": 62,
   "id": "bcfad076-d40d-4418-af11-48bcca5660ef",
   "metadata": {},
   "outputs": [
    {
     "name": "stdout",
     "output_type": "stream",
     "text": [
      "12\n",
      "0\n"
     ]
    }
   ],
   "source": [
    "print(cal1.result)\n",
    "print(cal2.result)"
   ]
  },
  {
   "cell_type": "code",
   "execution_count": 63,
   "id": "7081a708-29bb-4061-8b0f-a5279828de4a",
   "metadata": {},
   "outputs": [
    {
     "name": "stdout",
     "output_type": "stream",
     "text": [
      "15\n",
      "4\n"
     ]
    }
   ],
   "source": [
    "print(cal1.adder(3))\n",
    "print(cal2.adder(4))"
   ]
  },
  {
   "cell_type": "code",
   "execution_count": 64,
   "id": "e2df4dd8-bb32-49f6-817b-531967aaf13a",
   "metadata": {},
   "outputs": [
    {
     "name": "stdout",
     "output_type": "stream",
     "text": [
      "15\n",
      "4\n"
     ]
    }
   ],
   "source": [
    "print(cal1.result)\n",
    "print(cal2.result)"
   ]
  },
  {
   "cell_type": "code",
   "execution_count": 65,
   "id": "dab01d72-1494-4a08-8096-22bf5ac72f79",
   "metadata": {},
   "outputs": [
    {
     "name": "stdout",
     "output_type": "stream",
     "text": [
      "18\n",
      "11\n"
     ]
    }
   ],
   "source": [
    "print(cal1.adder(3))\n",
    "print(cal2.adder(7))                    # 기억장소 두개가 만들어진거임"
   ]
  },
  {
   "cell_type": "code",
   "execution_count": 66,
   "id": "6e41b1d3-f3d5-4c26-98bc-799488a4b95e",
   "metadata": {},
   "outputs": [
    {
     "name": "stdout",
     "output_type": "stream",
     "text": [
      "10\n",
      "20\n"
     ]
    }
   ],
   "source": [
    "cal3 = Calcurator()                     # 기억장소 한개 추가\n",
    "cal3.setinit()\n",
    "print(cal3.adder(10))\n",
    "print(cal3.adder(10))"
   ]
  },
  {
   "cell_type": "code",
   "execution_count": 69,
   "id": "0f38a4fb-c355-46e3-b4d4-9c91cdb0cf6f",
   "metadata": {},
   "outputs": [
    {
     "name": "stdout",
     "output_type": "stream",
     "text": [
      "18\n",
      "11\n"
     ]
    }
   ],
   "source": [
    "print(cal1.result)\n",
    "print(cal2.result)"
   ]
  },
  {
   "cell_type": "code",
   "execution_count": 71,
   "id": "1ff7ebcf-6744-48b7-a47c-824beae378b5",
   "metadata": {},
   "outputs": [
    {
     "data": {
      "text/plain": [
       "10"
      ]
     },
     "execution_count": 71,
     "metadata": {},
     "output_type": "execute_result"
    }
   ],
   "source": [
    "cal4 = Calcurator()                   \n",
    "cal4.setinit()\n",
    "cal4.adder(10)"
   ]
  },
  {
   "cell_type": "markdown",
   "id": "b49d123c-5b65-4ea1-8122-5130d3ce4199",
   "metadata": {},
   "source": [
    "## __init__ 메소드는 객체의 변수 값을 초기화"
   ]
  },
  {
   "cell_type": "code",
   "execution_count": 72,
   "id": "a8f52294-6794-408e-9ebb-7b19b0130b44",
   "metadata": {},
   "outputs": [],
   "source": [
    "class Calcurator:                     \n",
    "    def __init__(self):\n",
    "        self.result = 0\n",
    "    def adder(self, num):\n",
    "        self.result = self.result + num\n",
    "        return self.result"
   ]
  },
  {
   "cell_type": "code",
   "execution_count": 73,
   "id": "57310085-6c03-4c72-94d1-edbbf02477c7",
   "metadata": {},
   "outputs": [
    {
     "data": {
      "text/plain": [
       "10"
      ]
     },
     "execution_count": 73,
     "metadata": {},
     "output_type": "execute_result"
    }
   ],
   "source": [
    "cal5 = Calcurator()                   \n",
    "cal5.adder(10)"
   ]
  },
  {
   "cell_type": "code",
   "execution_count": 83,
   "id": "281101d2-86a4-44c7-8adc-dd7333f57831",
   "metadata": {},
   "outputs": [],
   "source": [
    "## 멤버 파라미터 값으로 변수 초기화\n",
    "\n",
    "class Car:\n",
    "    def __init__(self, num, pspeed):\n",
    "        self.num = num\n",
    "        self.speed = pspeed"
   ]
  },
  {
   "cell_type": "code",
   "execution_count": 84,
   "id": "c1a16a6a-f3e5-41a0-b342-18938fc9c942",
   "metadata": {},
   "outputs": [],
   "source": [
    "new_car = Car(2025, 90)"
   ]
  },
  {
   "cell_type": "code",
   "execution_count": 85,
   "id": "decea5ed-157a-47a7-8bf7-baf4adc46af4",
   "metadata": {},
   "outputs": [
    {
     "name": "stdout",
     "output_type": "stream",
     "text": [
      "차량번호  : 2025\n",
      " 속도는   : 90\n"
     ]
    }
   ],
   "source": [
    "print('차량번호  :', new_car.num)\n",
    "print(' 속도는   :', new_car.speed)"
   ]
  },
  {
   "cell_type": "code",
   "execution_count": 97,
   "id": "bdff36bf-c880-470f-b4a0-27d089eee892",
   "metadata": {},
   "outputs": [],
   "source": [
    "class Car:\n",
    "    def __init__(self, num, pspeed):\n",
    "        self.num = num\n",
    "        self.speed = pspeed\n",
    "    def fprint(self):\n",
    "        print('차량번호  :', self.num)\n",
    "        print(' 속도는   :', self.speed)"
   ]
  },
  {
   "cell_type": "code",
   "execution_count": 98,
   "id": "20b041bd-7125-4bfc-9e43-726f0780cc39",
   "metadata": {},
   "outputs": [
    {
     "name": "stdout",
     "output_type": "stream",
     "text": [
      "차량번호  : 2025\n",
      " 속도는   : 90\n"
     ]
    }
   ],
   "source": [
    "new_car = Car(2025, 90)\n",
    "new_car.fprint()"
   ]
  },
  {
   "cell_type": "code",
   "execution_count": 100,
   "id": "0fe9324e-e878-4ad0-b598-e813ab0684bc",
   "metadata": {},
   "outputs": [
    {
     "name": "stdout",
     "output_type": "stream",
     "text": [
      "객체 obj 내의 인스턴스 변수 x의 값은  10\n",
      "객체 obj 내의 인스턴스 변수 x의 값은  10\n",
      "객체 obj 내의 인스턴스 변수 x의 값은  30\n"
     ]
    }
   ],
   "source": [
    "class Cadd:\n",
    "    def fadd(self, a, b):\n",
    "        self.x = a\n",
    "        self.y = b\n",
    "        self.hap=self.x + self.y\n",
    "\n",
    "obj = Cadd()\n",
    "obj.fadd(10, 20)\n",
    "\n",
    "print('객체 obj 내의 인스턴스 변수 x의 값은 ', obj.x)\n",
    "print('객체 obj 내의 인스턴스 변수 x의 값은 ', obj.x)\n",
    "print('객체 obj 내의 인스턴스 변수 x의 값은 ', obj.hap)"
   ]
  },
  {
   "cell_type": "code",
   "execution_count": 101,
   "id": "e0abd8a6-e624-4e90-b2ef-22e8b0b94447",
   "metadata": {},
   "outputs": [
    {
     "name": "stdout",
     "output_type": "stream",
     "text": [
      "ohap의 값은?  30\n"
     ]
    }
   ],
   "source": [
    "class Cadd:\n",
    "    def fadd(self, a, b):\n",
    "        x = a\n",
    "        y = b\n",
    "        hap=x + y\n",
    "        return hap\n",
    "\n",
    "obj = Cadd()\n",
    "ohap = obj.fadd(10, 20)\n",
    "\n",
    "print('ohap의 값은? ', ohap)"
   ]
  },
  {
   "cell_type": "code",
   "execution_count": 102,
   "id": "9e42c957-571b-47a7-a5d2-9431b6090c92",
   "metadata": {},
   "outputs": [
    {
     "name": "stdout",
     "output_type": "stream",
     "text": [
      "ohap의 값은?  30\n"
     ]
    }
   ],
   "source": [
    "class Cadd:\n",
    "    def fadd(self, a, b):\n",
    "        self.x = a\n",
    "        self.y = b\n",
    "        self.hap=self.x + self.y\n",
    "        return self.hap\n",
    "\n",
    "obj = Cadd()\n",
    "ohap = obj.fadd(10, 20)\n",
    "\n",
    "print('ohap의 값은? ', ohap)"
   ]
  },
  {
   "cell_type": "code",
   "execution_count": 104,
   "id": "8478d492-b03c-4eb5-a1ae-67776baf2827",
   "metadata": {},
   "outputs": [
    {
     "name": "stdout",
     "output_type": "stream",
     "text": [
      "ohap의 값은?  3\n"
     ]
    }
   ],
   "source": [
    "# 객체의 멤버 함수의 파라미터에 초기값 설정\n",
    "class Cadd:\n",
    "    def fadd(self, a=1, b=2):\n",
    "        self.x = a\n",
    "        self.y = b\n",
    "        self.hap=self.x + self.y\n",
    "        return self.hap\n",
    "\n",
    "obj = Cadd()\n",
    "ohap = obj.fadd()\n",
    "\n",
    "print('ohap의 값은? ', ohap)"
   ]
  },
  {
   "cell_type": "code",
   "execution_count": 105,
   "id": "3e7c3c74-c22d-4b75-b3e0-b08895361e16",
   "metadata": {},
   "outputs": [
    {
     "name": "stdout",
     "output_type": "stream",
     "text": [
      "ohap의 값은?  30\n"
     ]
    }
   ],
   "source": [
    "ohap = obj.fadd(10, 20)\n",
    "\n",
    "print('ohap의 값은? ', ohap)"
   ]
  },
  {
   "cell_type": "code",
   "execution_count": 106,
   "id": "3d5b1939-ae39-4885-9ae9-e2ee93d6bafd",
   "metadata": {},
   "outputs": [
    {
     "name": "stdout",
     "output_type": "stream",
     "text": [
      "ohap의 값은?  12\n"
     ]
    }
   ],
   "source": [
    "ohap = obj.fadd(10)\n",
    "\n",
    "print('ohap의 값은? ', ohap)"
   ]
  },
  {
   "cell_type": "code",
   "execution_count": 107,
   "id": "0107e72f-16a4-4948-822d-def07d693eb5",
   "metadata": {},
   "outputs": [
    {
     "ename": "SyntaxError",
     "evalue": "invalid syntax (2230305932.py, line 1)",
     "output_type": "error",
     "traceback": [
      "\u001b[1;36m  Cell \u001b[1;32mIn[107], line 1\u001b[1;36m\u001b[0m\n\u001b[1;33m    ohap = obj.fadd(,20)\u001b[0m\n\u001b[1;37m                    ^\u001b[0m\n\u001b[1;31mSyntaxError\u001b[0m\u001b[1;31m:\u001b[0m invalid syntax\n"
     ]
    }
   ],
   "source": [
    "ohap = obj.fadd(,20)\n",
    "\n",
    "print('ohap의 값은? ', ohap)"
   ]
  },
  {
   "cell_type": "code",
   "execution_count": 109,
   "id": "d974ebf7-83ca-4e1d-baa1-f4e3730795f7",
   "metadata": {},
   "outputs": [
    {
     "ename": "TypeError",
     "evalue": "__init__() should return None, not 'int'",
     "output_type": "error",
     "traceback": [
      "\u001b[1;31m---------------------------------------------------------------------------\u001b[0m",
      "\u001b[1;31mTypeError\u001b[0m                                 Traceback (most recent call last)",
      "Cell \u001b[1;32mIn[109], line 7\u001b[0m\n\u001b[0;32m      5\u001b[0m         \u001b[38;5;28mself\u001b[39m\u001b[38;5;241m.\u001b[39mhap\u001b[38;5;241m=\u001b[39m\u001b[38;5;28mself\u001b[39m\u001b[38;5;241m.\u001b[39mx \u001b[38;5;241m+\u001b[39m \u001b[38;5;28mself\u001b[39m\u001b[38;5;241m.\u001b[39my\n\u001b[0;32m      6\u001b[0m         \u001b[38;5;28;01mreturn\u001b[39;00m \u001b[38;5;28mself\u001b[39m\u001b[38;5;241m.\u001b[39mhap\n\u001b[1;32m----> 7\u001b[0m ohap \u001b[38;5;241m=\u001b[39m Cadd(\u001b[38;5;241m10\u001b[39m, \u001b[38;5;241m20\u001b[39m)\n\u001b[0;32m      9\u001b[0m \u001b[38;5;28mprint\u001b[39m(\u001b[38;5;124m'\u001b[39m\u001b[38;5;124mohap의 값은? \u001b[39m\u001b[38;5;124m'\u001b[39m, ohap)\n",
      "\u001b[1;31mTypeError\u001b[0m: __init__() should return None, not 'int'"
     ]
    }
   ],
   "source": [
    "class Cadd:\n",
    "    def __init__(self, a=1, b=2):\n",
    "        self.x = a\n",
    "        self.y = b\n",
    "        self.hap=self.x + self.y\n",
    "        return self.hap           # __init__ return 을 사용할 수 없음\n",
    "ohap = Cadd(10, 20)\n",
    "\n",
    "print('ohap의 값은? ', ohap)"
   ]
  },
  {
   "cell_type": "code",
   "execution_count": 111,
   "id": "41d0c66a-617e-4d51-bd01-515552e22f4c",
   "metadata": {},
   "outputs": [
    {
     "ename": "SyntaxError",
     "evalue": "expected ':' (3907178330.py, line 1)",
     "output_type": "error",
     "traceback": [
      "\u001b[1;36m  Cell \u001b[1;32mIn[111], line 1\u001b[1;36m\u001b[0m\n\u001b[1;33m    class Ccalc\u001b[0m\n\u001b[1;37m               ^\u001b[0m\n\u001b[1;31mSyntaxError\u001b[0m\u001b[1;31m:\u001b[0m expected ':'\n"
     ]
    }
   ],
   "source": [
    "class Ccalc\n",
    "\n",
    "     def fadd(self, a, b):\n",
    "     def fsub(self, a, b):\n",
    "     def fmul(self, a, b):\n",
    "     def fdiv(self, a, b):"
   ]
  },
  {
   "cell_type": "code",
   "execution_count": 112,
   "id": "a438436d-8dfb-47a3-b56f-b06831e9ad0c",
   "metadata": {},
   "outputs": [
    {
     "ename": "NameError",
     "evalue": "name 'Ccalc' is not defined",
     "output_type": "error",
     "traceback": [
      "\u001b[1;31m---------------------------------------------------------------------------\u001b[0m",
      "\u001b[1;31mNameError\u001b[0m                                 Traceback (most recent call last)",
      "Cell \u001b[1;32mIn[112], line 1\u001b[0m\n\u001b[1;32m----> 1\u001b[0m cal1 \u001b[38;5;241m=\u001b[39m Ccalc()\n\u001b[0;32m      2\u001b[0m \u001b[38;5;28mprint\u001b[39m(cal1\u001b[38;5;241m.\u001b[39mfadd(\u001b[38;5;241m10\u001b[39m,\u001b[38;5;241m20\u001b[39m))\n\u001b[0;32m      3\u001b[0m \u001b[38;5;28mprint\u001b[39m(cal1\u001b[38;5;241m.\u001b[39mfsub(\u001b[38;5;241m10\u001b[39m,\u001b[38;5;241m20\u001b[39m))\n",
      "\u001b[1;31mNameError\u001b[0m: name 'Ccalc' is not defined"
     ]
    }
   ],
   "source": [
    "cal1 = Ccalc()\n",
    "print(cal1.fadd(10,20))\n",
    "print(cal1.fsub(10,20))\n",
    "print(cal1.fmul(10,20))\n",
    "print(cal1.fdiv(10,20))"
   ]
  },
  {
   "cell_type": "markdown",
   "id": "5ebb204b-1d87-470f-8753-33f05dba021d",
   "metadata": {},
   "source": [
    "## 사칙연산 두가지 방법(위에는 내가한거 밑에는 강사님)"
   ]
  },
  {
   "cell_type": "code",
   "execution_count": 113,
   "id": "09b16c9b-fb1b-4d1b-a1de-784e376ebffa",
   "metadata": {},
   "outputs": [],
   "source": [
    "class Ccalc:\n",
    "    def fadd(self, a, b):\n",
    "        self.x = a\n",
    "        self.y = b\n",
    "        self.hap=self.x + self.y\n",
    "        return self.hap\n",
    "\n",
    "    def fsub(self, a, b):\n",
    "        self.x = a\n",
    "        self.y = b\n",
    "        self.hap=self.x - self.y\n",
    "        return self.hap\n",
    "\n",
    "    def fmul(self, a, b):\n",
    "        self.x = a\n",
    "        self.y = b\n",
    "        self.hap=self.x * self.y\n",
    "        return self.hap\n",
    "         \n",
    "    def fdiv(self, a, b):\n",
    "        self.x = a\n",
    "        self.y = b\n",
    "        self.hap=self.x / self.y\n",
    "        return self.hap "
   ]
  },
  {
   "cell_type": "code",
   "execution_count": 114,
   "id": "00c80703-97c5-4545-8298-767e8ef7ac89",
   "metadata": {},
   "outputs": [
    {
     "name": "stdout",
     "output_type": "stream",
     "text": [
      "30\n",
      "-10\n",
      "200\n",
      "0.5\n"
     ]
    }
   ],
   "source": [
    "cal1 = Ccalc()\n",
    "print(cal1.fadd(10,20))\n",
    "print(cal1.fsub(10,20))\n",
    "print(cal1.fmul(10,20))\n",
    "print(cal1.fdiv(10,20))"
   ]
  },
  {
   "cell_type": "code",
   "execution_count": 115,
   "id": "e88e43b3-4a66-46f8-b081-9e7909402f1a",
   "metadata": {},
   "outputs": [],
   "source": [
    "class Ccalc:\n",
    "    def fadd(self, a, b):\n",
    "        self.a = a\n",
    "        self.b = b\n",
    "        return self.a + self.b\n",
    "\n",
    "    def fsub(self, a, b):\n",
    "        self.a = a\n",
    "        self.b = b\n",
    "        return self.a - self.b\n",
    "\n",
    "    def fmul(self, a, b):\n",
    "        self.a = a\n",
    "        self.b = b\n",
    "        return self.a * self.b\n",
    "         \n",
    "    def fdiv(self, a, b):\n",
    "        self.a = a\n",
    "        self.b = b\n",
    "        return self.a / self.b"
   ]
  },
  {
   "cell_type": "code",
   "execution_count": 116,
   "id": "c621aba8-a640-4967-94d7-dc079139be6d",
   "metadata": {},
   "outputs": [
    {
     "name": "stdout",
     "output_type": "stream",
     "text": [
      "30\n",
      "-10\n",
      "200\n",
      "0.5\n"
     ]
    }
   ],
   "source": [
    "cal1 = Ccalc()\n",
    "print(cal1.fadd(10,20))\n",
    "print(cal1.fsub(10,20))\n",
    "print(cal1.fmul(10,20))\n",
    "print(cal1.fdiv(10,20))"
   ]
  },
  {
   "cell_type": "code",
   "execution_count": 120,
   "id": "e96119fc-36e1-4f15-9388-7f4d419a334e",
   "metadata": {},
   "outputs": [
    {
     "name": "stdout",
     "output_type": "stream",
     "text": [
      " C 드라이브의 볼륨: Windows \n",
      " 볼륨 일련 번호: 121E-680E\n",
      "\n",
      " C:\\Users\\305 디렉터리\n",
      "\n",
      "2025-02-04  13:32    <DIR>          .\n",
      "2024-01-26  15:50    <DIR>          ..\n",
      "2025-01-23  12:34    <DIR>          .anaconda\n",
      "2025-02-04  13:32    <DIR>          .conda\n",
      "2025-01-23  12:34               146 .condarc\n",
      "2025-01-23  12:34    <DIR>          .continuum\n",
      "2025-02-04  13:07    <DIR>          .ipynb_checkpoints\n",
      "2025-01-23  15:26    <DIR>          .ipython\n",
      "2025-01-23  15:32    <DIR>          .jupyter\n",
      "2024-11-04  15:09    <DIR>          .ssh\n",
      "2025-01-24  17:51    <DIR>          .VirtualBox\n",
      "2025-02-03  16:37    <DIR>          .vscode\n",
      "2025-01-24  17:45            12,104 1. 변수와 데이터 타입 기초 .ipynb\n",
      "2025-02-03  15:40            12,579 1. 변수와 데이터 타입 기초 강사님 파일.ipynb\n",
      "2025-02-03  15:40            14,821 2. 제어문과 반복문 강사님 파일.ipynb\n",
      "2025-02-03  16:07            36,751 2. 제어문과 반복문.ipynb\n",
      "2025-02-03  15:40            13,324 3. 리스트 강사님 파일.ipynb\n",
      "2025-02-03  17:46            14,252 3. 리스트.ipynb\n",
      "2025-02-03  15:40             9,637 4. 튜플과 딕셔너리 강사님 파일.ipynb\n",
      "2025-02-03  16:07            12,248 4. 튜플과 딕셔너리.ipynb\n",
      "2025-02-03  14:26            12,922 5. 함수 강사님 파일.ipynb\n",
      "2025-02-03  16:07            11,737 5. 함수.ipynb\n",
      "2025-02-03  15:40            15,999 6. 자료 구조와 알고리리즘 강사님 파일.ipynb\n",
      "2025-02-03  16:07            14,031 6. 자료 구조와 알고리즘.ipynb\n",
      "2025-02-04  13:32            32,480 7. 클래스.ipynb\n",
      "2025-01-23  12:34    <DIR>          anaconda3\n",
      "2024-01-26  15:33    <DIR>          Contacts\n",
      "2025-02-04  10:14    <DIR>          Desktop\n",
      "2025-02-04  10:20    <DIR>          Documents\n",
      "2025-02-04  13:32    <DIR>          Downloads\n",
      "2024-01-26  15:33    <DIR>          Favorites\n",
      "2025-02-04  13:32               710 fcal.py\n",
      "2025-01-23  15:31               963 hello.ipynb\n",
      "2024-01-26  15:33    <DIR>          Links\n",
      "2025-01-24  15:33    <DIR>          Music\n",
      "2024-11-04  12:35    <DIR>          OneDrive\n",
      "2025-01-24  17:19    <DIR>          Pictures\n",
      "2025-02-03  16:48    <DIR>          pygame\n",
      "2025-01-24  13:27    <DIR>          Saved Games\n",
      "2024-01-26  16:09    <DIR>          Searches\n",
      "2024-12-15  15:58    <DIR>          source\n",
      "2025-01-23  15:35             1,073 Untitled.ipynb\n",
      "2025-01-23  15:36               337 Untitled1.ipynb\n",
      "2025-01-23  17:37               617 Untitled2.ipynb\n",
      "2025-02-03  13:32             1,017 Untitled3.ipynb\n",
      "2025-02-04  13:19             2,135 Untitled4.ipynb\n",
      "2024-03-14  11:24    <DIR>          Videos\n",
      "              21개 파일             219,883 바이트\n",
      "              26개 디렉터리  143,547,334,656 바이트 남음\n"
     ]
    }
   ],
   "source": [
    "!dir"
   ]
  },
  {
   "cell_type": "code",
   "execution_count": 121,
   "id": "517e92c1-96eb-4594-9045-ba14b9f4b9df",
   "metadata": {},
   "outputs": [],
   "source": [
    "from fcal import Fcalc, Fcala   # fcal.py 에 존재하는 클래스 Fcalc, Fcala 를 불러온다"
   ]
  },
  {
   "cell_type": "code",
   "execution_count": 122,
   "id": "d7d8b139-d9cc-462c-89a0-2b1f44a4e9a1",
   "metadata": {},
   "outputs": [],
   "source": [
    "cal1 = Fcalc()"
   ]
  },
  {
   "cell_type": "code",
   "execution_count": 123,
   "id": "70fa4ac9-3976-4b2b-8c35-cb892e6dfae8",
   "metadata": {},
   "outputs": [
    {
     "name": "stdout",
     "output_type": "stream",
     "text": [
      "30\n",
      "-10\n",
      "200\n",
      "0.5\n"
     ]
    }
   ],
   "source": [
    "print(cal1.fadd(10,20))\n",
    "print(cal1.fsub(10,20))\n",
    "print(cal1.fmul(10,20))\n",
    "print(cal1.fdiv(10,20))"
   ]
  },
  {
   "cell_type": "code",
   "execution_count": 124,
   "id": "bb4c5fa7-355a-4dfc-bb39-0a2c0ae27b91",
   "metadata": {},
   "outputs": [],
   "source": [
    "cal2 = Fcala()"
   ]
  },
  {
   "cell_type": "code",
   "execution_count": 125,
   "id": "dcab318d-0d75-4033-acfc-70bd524a5fe2",
   "metadata": {},
   "outputs": [
    {
     "data": {
      "text/plain": [
       "100000000000000000000"
      ]
     },
     "execution_count": 125,
     "metadata": {},
     "output_type": "execute_result"
    }
   ],
   "source": [
    "cal2.fsqrt(10,20)"
   ]
  },
  {
   "cell_type": "code",
   "execution_count": null,
   "id": "6cc752e1-e7dc-4add-834e-5638352ca4d9",
   "metadata": {},
   "outputs": [],
   "source": []
  },
  {
   "cell_type": "code",
   "execution_count": null,
   "id": "aedbb1d9-697c-4ebf-bcf2-0eb9fe1537f5",
   "metadata": {},
   "outputs": [],
   "source": []
  },
  {
   "cell_type": "code",
   "execution_count": null,
   "id": "e3b38ce7-6740-4a99-8b2b-9e99616352a3",
   "metadata": {},
   "outputs": [],
   "source": []
  },
  {
   "cell_type": "code",
   "execution_count": null,
   "id": "ff146e4a-e293-4499-bc1f-991b4efc9491",
   "metadata": {},
   "outputs": [],
   "source": []
  }
 ],
 "metadata": {
  "kernelspec": {
   "display_name": "Python 3 (ipykernel)",
   "language": "python",
   "name": "python3"
  },
  "language_info": {
   "codemirror_mode": {
    "name": "ipython",
    "version": 3
   },
   "file_extension": ".py",
   "mimetype": "text/x-python",
   "name": "python",
   "nbconvert_exporter": "python",
   "pygments_lexer": "ipython3",
   "version": "3.12.8"
  }
 },
 "nbformat": 4,
 "nbformat_minor": 5
}
