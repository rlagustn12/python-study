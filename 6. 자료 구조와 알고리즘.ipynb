{
 "cells": [
  {
   "cell_type": "markdown",
   "id": "d50560d4-38f7-4d1a-9faf-600bc3a376b1",
   "metadata": {},
   "source": [
    "# 최댓값 찾기 (if문 사용)"
   ]
  },
  {
   "cell_type": "code",
   "execution_count": 1,
   "id": "4205ad66-0116-456a-be9d-0a763051edca",
   "metadata": {},
   "outputs": [
    {
     "name": "stdout",
     "output_type": "stream",
     "text": [
      "17\n"
     ]
    }
   ],
   "source": [
    "ca = [10, 17, 13, 11]\n",
    "\n",
    "max = ca[0]\n",
    "if max < ca[1]:\n",
    "    max = ca[1]\n",
    "\n",
    "if max < ca[2]:\n",
    "    max = ca[2]\n",
    "\n",
    "if max < ca[3]:\n",
    "    max = ca[3]\n",
    "\n",
    "print(max)"
   ]
  },
  {
   "cell_type": "markdown",
   "id": "473fd573-c2a1-4a55-bc6d-5b643de6b708",
   "metadata": {},
   "source": [
    "# 최댓값 찾기 (for문 사용)"
   ]
  },
  {
   "cell_type": "code",
   "execution_count": 2,
   "id": "284dcf4b-2015-447b-bb29-aeeec84423de",
   "metadata": {},
   "outputs": [
    {
     "name": "stdout",
     "output_type": "stream",
     "text": [
      "17\n"
     ]
    }
   ],
   "source": [
    "ca = [10, 17, 13, 11]\n",
    "\n",
    "max = ca[0]\n",
    "for sb in range(1, 4):\n",
    "    if max < ca[sb]:\n",
    "        max = ca[sb]\n",
    "\n",
    "print(max)"
   ]
  },
  {
   "cell_type": "markdown",
   "id": "a4033741-48e5-401e-84b9-2a69bc0e8832",
   "metadata": {},
   "source": [
    "# 원소의 갯수를 모를경우"
   ]
  },
  {
   "cell_type": "code",
   "execution_count": 4,
   "id": "a8147a11-66d7-4cc4-a1dc-d11fc7c7c71b",
   "metadata": {},
   "outputs": [
    {
     "name": "stdout",
     "output_type": "stream",
     "text": [
      "17\n"
     ]
    }
   ],
   "source": [
    "ca = [10, 17, 13, 11]\n",
    "\n",
    "max = ca[0]\n",
    "for sb in ca:\n",
    "    if max < sb:\n",
    "        max = sb\n",
    "\n",
    "print(max)"
   ]
  },
  {
   "cell_type": "code",
   "execution_count": 5,
   "id": "9dccd4e7-025e-4c5a-9259-b4e5d5b7ce0a",
   "metadata": {},
   "outputs": [
    {
     "name": "stdout",
     "output_type": "stream",
     "text": [
      "17\n"
     ]
    }
   ],
   "source": [
    "ca = [10, 17, 13, 11]\n",
    "\n",
    "max = ca[0]\n",
    "for sb in range(1, len(ca)):\n",
    "    if max < ca[sb]:\n",
    "        max = ca[sb]\n",
    "\n",
    "print(max)"
   ]
  },
  {
   "cell_type": "code",
   "execution_count": 6,
   "id": "729958c4-cbce-4424-863d-a12272c6c008",
   "metadata": {},
   "outputs": [],
   "source": [
    "del max"
   ]
  },
  {
   "cell_type": "code",
   "execution_count": 7,
   "id": "b74adadf-1f6f-411d-a0de-0d3770288d74",
   "metadata": {},
   "outputs": [
    {
     "data": {
      "text/plain": [
       "17"
      ]
     },
     "execution_count": 7,
     "metadata": {},
     "output_type": "execute_result"
    }
   ],
   "source": [
    "ca = [10, 17, 13, 11]\n",
    "max(ca)"
   ]
  },
  {
   "cell_type": "markdown",
   "id": "605ec80d-5bc1-4a7b-80e4-fa206cc43b19",
   "metadata": {},
   "source": [
    "# 원소의 정렬(sort)"
   ]
  },
  {
   "cell_type": "code",
   "execution_count": 18,
   "id": "4cea81d1-a10a-4e96-ae01-217c3b49e3d4",
   "metadata": {},
   "outputs": [
    {
     "name": "stdout",
     "output_type": "stream",
     "text": [
      "[10, 21, 11, 15, 13]\n"
     ]
    }
   ],
   "source": [
    "ca = [21, 10, 11, 15, 13]\n",
    "\n",
    "mina = ca[0]\n",
    "minix = 0\n",
    "\n",
    "for sb in range(1, len(ca)):\n",
    "    if mina > ca[sb]:\n",
    "        mina = ca[sb]\n",
    "        minix = sb\n",
    "\n",
    "temp = ca[0]\n",
    "ca[0] = ca[minix]\n",
    "ca[minix] = temp\n",
    "\n",
    "print(ca)"
   ]
  },
  {
   "cell_type": "code",
   "execution_count": 21,
   "id": "24255b2a-34e1-4169-a6a9-3c1b5a6704f3",
   "metadata": {},
   "outputs": [
    {
     "name": "stdout",
     "output_type": "stream",
     "text": [
      "[10, 21, 11, 15, 13]\n",
      "[10, 11, 21, 15, 13]\n",
      "[10, 11, 13, 15, 21]\n",
      "[10, 15, 13, 11, 21]\n"
     ]
    }
   ],
   "source": [
    "ca = [21, 10, 11, 15, 13]\n",
    "for sa in range(0, len(ca) -1):\n",
    "   mina = ca[sa]\n",
    "   minix = 1\n",
    "\n",
    "   for sb in range(sa +1, len(ca)):\n",
    "    if mina > ca[sb]:\n",
    "        mina = ca[sb]\n",
    "        minix = sb\n",
    "\n",
    "   temp = ca[sa]\n",
    "   ca[sa] = ca[minix]\n",
    "   ca[minix] = temp\n",
    "\n",
    "   print(ca)"
   ]
  },
  {
   "cell_type": "code",
   "execution_count": 26,
   "id": "9dac3699-7082-4b1a-a3c2-f4021a943c8b",
   "metadata": {},
   "outputs": [
    {
     "name": "stdout",
     "output_type": "stream",
     "text": [
      "[10, 11, 13, 15, 21]\n"
     ]
    }
   ],
   "source": [
    "def user_sort(ca):\n",
    " for sa in range(0, len(ca) -1):\n",
    "    mina = ca[sa]\n",
    "    minix = sa\n",
    "\n",
    "    for sb in range(sa +1, len(ca)):\n",
    "     if mina > ca[sb]:\n",
    "         mina = ca[sb]\n",
    "         minix = sb\n",
    "\n",
    "    temp = ca[sa]\n",
    "    ca[sa] = ca[minix]\n",
    "    ca[minix] = temp\n",
    "\n",
    "ca = [21, 10, 11, 15, 13]\n",
    "user_sort(ca)\n",
    "print(ca)"
   ]
  },
  {
   "cell_type": "code",
   "execution_count": 23,
   "id": "3e7d9325-ae2e-4186-8039-abd922faa14a",
   "metadata": {},
   "outputs": [
    {
     "name": "stdout",
     "output_type": "stream",
     "text": [
      "[10, 11, 13, 15, 21]\n"
     ]
    }
   ],
   "source": [
    "ca = [21, 10, 11, 15, 13]            \n",
    "ca.sort()                          #  오름차순\n",
    "print(ca)"
   ]
  },
  {
   "cell_type": "code",
   "execution_count": 24,
   "id": "a2de53ff-4ba2-4612-977e-e1bb98b31da5",
   "metadata": {},
   "outputs": [
    {
     "name": "stdout",
     "output_type": "stream",
     "text": [
      "[21, 15, 13, 11, 10]\n"
     ]
    }
   ],
   "source": [
    "ca = [21, 10, 11, 15, 13]            \n",
    "ca.sort(reverse=True)              #  내림차순\n",
    "print(ca)"
   ]
  },
  {
   "cell_type": "markdown",
   "id": "626ac214-03a4-429d-9847-f6814fde817b",
   "metadata": {},
   "source": [
    "# 딕셔너리를 매개변수로 사용하는 방법\n",
    "딕셔너리는 (key,value)가 있음"
   ]
  },
  {
   "cell_type": "code",
   "execution_count": 27,
   "id": "e3f5510d-22d6-4b7b-abf4-9bcb7e5690cd",
   "metadata": {},
   "outputs": [
    {
     "name": "stdout",
     "output_type": "stream",
     "text": [
      "{'mon': '월', 'tue': '화', 'wed': '수'}\n"
     ]
    }
   ],
   "source": [
    "a = {'mon' : '월', 'tue' : '화', 'wed' : '수'}\n",
    "print(a)"
   ]
  },
  {
   "cell_type": "code",
   "execution_count": 28,
   "id": "fa39e950-57bf-4f77-b7a8-be4dbfdfcb7e",
   "metadata": {},
   "outputs": [
    {
     "name": "stdout",
     "output_type": "stream",
     "text": [
      "{'mon': '월', 'tue': '화', 'wed': '수'}\n"
     ]
    }
   ],
   "source": [
    "x = a\n",
    "print(x)"
   ]
  },
  {
   "cell_type": "code",
   "execution_count": 29,
   "id": "960b9248-bdea-481e-bc16-da806efe556b",
   "metadata": {},
   "outputs": [
    {
     "name": "stdout",
     "output_type": "stream",
     "text": [
      "{'mon': '일', 'tue': '화', 'wed': '수'}\n",
      "{'mon': '일', 'tue': '화', 'wed': '수'}\n"
     ]
    }
   ],
   "source": [
    "x['mon'] = '일'\n",
    "print(x)\n",
    "print(a)"
   ]
  },
  {
   "cell_type": "code",
   "execution_count": 30,
   "id": "f85a7783-15e4-4f1b-a049-fe1a20e721f5",
   "metadata": {},
   "outputs": [
    {
     "name": "stdout",
     "output_type": "stream",
     "text": [
      "{'mon': '월', 'tue': '화', 'wed': '수'}\n"
     ]
    }
   ],
   "source": [
    "a = {'mon' : '월', 'tue' : '화', 'wed' : '수'}\n",
    "print(a)"
   ]
  },
  {
   "cell_type": "code",
   "execution_count": 31,
   "id": "3357df77-4b67-47aa-8acf-7c96380b6601",
   "metadata": {},
   "outputs": [
    {
     "name": "stdout",
     "output_type": "stream",
     "text": [
      "{'mon': '월', 'tue': '화', 'wed': '수'}\n"
     ]
    }
   ],
   "source": [
    "x = a\n",
    "print(x)"
   ]
  },
  {
   "cell_type": "code",
   "execution_count": 32,
   "id": "00a99112-5db7-497d-8150-1397ed997dd4",
   "metadata": {},
   "outputs": [],
   "source": [
    "def fch(x):\n",
    "    x['mon'] = '일'"
   ]
  },
  {
   "cell_type": "code",
   "execution_count": 34,
   "id": "8c4c79f9-7fb8-4b7c-baed-417f9e6cc058",
   "metadata": {},
   "outputs": [
    {
     "name": "stdout",
     "output_type": "stream",
     "text": [
      "{'mon': '월', 'tue': '화', 'wed': '수'}\n",
      "{'mon': '월', 'tue': '화', 'wed': '수'}\n"
     ]
    }
   ],
   "source": [
    "a = {'mon' : '월', 'tue' : '화', 'wed' : '수'}\n",
    "print(a)\n",
    "x = a\n",
    "print(x)"
   ]
  },
  {
   "cell_type": "code",
   "execution_count": 35,
   "id": "fa2f411e-364c-4a44-8d9b-ec08d3904995",
   "metadata": {},
   "outputs": [
    {
     "name": "stdout",
     "output_type": "stream",
     "text": [
      "함수 실행 전 : {'mon': '월', 'tue': '화', 'wed': '수'}\n",
      "함수 실행 후 : {'mon': '일', 'tue': '화', 'wed': '수'}\n"
     ]
    }
   ],
   "source": [
    "print(\"함수 실행 전 :\", a)\n",
    "fch(a)\n",
    "print(\"함수 실행 후 :\", a)"
   ]
  },
  {
   "cell_type": "code",
   "execution_count": 36,
   "id": "db88075c-bce8-4fce-bd09-c99f4a784fe9",
   "metadata": {},
   "outputs": [
    {
     "name": "stdout",
     "output_type": "stream",
     "text": [
      "함수 실행 후 : {'mon': '일', 'tue': '화', 'wed': '수'}\n"
     ]
    }
   ],
   "source": [
    "print(\"함수 실행 후 :\", x)"
   ]
  },
  {
   "cell_type": "markdown",
   "id": "cd3e211d-0a3c-4501-aaa0-36b732e8e483",
   "metadata": {},
   "source": [
    "# *args 에서 \"*\"의 의미 : 매개변수가 유동적일때 \"*\" 사용함."
   ]
  },
  {
   "cell_type": "code",
   "execution_count": 38,
   "id": "93bf479e-5cdd-43c1-b5f8-b9f779cfeb0e",
   "metadata": {},
   "outputs": [
    {
     "name": "stdout",
     "output_type": "stream",
     "text": [
      "1\n",
      "2\n",
      "3\n",
      "4\n",
      "5\n"
     ]
    }
   ],
   "source": [
    "def my_func(*args):\n",
    "    for arg in args:\n",
    "        print(arg)\n",
    "        \n",
    "my_func(1,2,3,4,5)"
   ]
  },
  {
   "cell_type": "code",
   "execution_count": 39,
   "id": "6dad25f4-b62c-4513-91f6-8941c1072663",
   "metadata": {},
   "outputs": [
    {
     "name": "stdout",
     "output_type": "stream",
     "text": [
      "1\n",
      "2\n",
      "3\n"
     ]
    }
   ],
   "source": [
    "my_func(1,2,3)"
   ]
  },
  {
   "cell_type": "markdown",
   "id": "94aece3e-eca9-4fb3-b36f-fc983d753dec",
   "metadata": {},
   "source": [
    "##   \"**kwargs\"에서 \"**\"의 의미 : 딕셔너리 데이터를 파라미터로 사용하는데 (유동적)"
   ]
  },
  {
   "cell_type": "code",
   "execution_count": 40,
   "id": "23424725-b198-4815-86fe-294f72c3f7c0",
   "metadata": {},
   "outputs": [],
   "source": [
    "def my_func(**kwargs):\n",
    "    for key, value in kwargs.items():\n",
    "        print('key : ', key, 'value', value)"
   ]
  },
  {
   "cell_type": "code",
   "execution_count": 41,
   "id": "f9fd3b7c-9c13-4bb5-990b-f58cc30d9dde",
   "metadata": {},
   "outputs": [
    {
     "name": "stdout",
     "output_type": "stream",
     "text": [
      "key :  name value join\n",
      "key :  age value 30\n",
      "key :  gender value male\n",
      "key :  loc value 서울시\n"
     ]
    }
   ],
   "source": [
    "my_func(name='join', age=30, gender='male', loc='서울시')"
   ]
  },
  {
   "cell_type": "code",
   "execution_count": 43,
   "id": "344fa8dc-6e11-42e2-b2f7-b1cfafe96b46",
   "metadata": {},
   "outputs": [],
   "source": [
    "def my_func(*args, **kwargs):              # * , ** 는 순서가 바뀌면 안됨 *이 무조건 먼저\n",
    "    for arg in args:\n",
    "        print(arg)\n",
    "    for key, value in kwargs.items():\n",
    "        print('key : ', key, 'value', value)"
   ]
  },
  {
   "cell_type": "code",
   "execution_count": 45,
   "id": "f9ec23d8-c0f7-4801-baf6-e79a7f3b493c",
   "metadata": {},
   "outputs": [
    {
     "name": "stdout",
     "output_type": "stream",
     "text": [
      "1\n",
      "2\n",
      "3\n",
      "4\n",
      "5\n",
      "key :  name value join\n",
      "key :  age value 30\n",
      "key :  gender value male\n"
     ]
    }
   ],
   "source": [
    "my_func(1,2,3,4,5, name='join', age=30, gender='male')"
   ]
  },
  {
   "cell_type": "code",
   "execution_count": 53,
   "id": "30f34048-9b12-4ea3-82ad-afcc1f660981",
   "metadata": {},
   "outputs": [],
   "source": [
    "def my_func(*a, **b):             \n",
    "    for arg in a:\n",
    "        print(arg)\n",
    "    for key, value in b.items():\n",
    "        print('key : ', key, 'value', value)"
   ]
  },
  {
   "cell_type": "code",
   "execution_count": 54,
   "id": "32befaf1-bd02-4220-b628-78db55dc85e0",
   "metadata": {},
   "outputs": [
    {
     "name": "stdout",
     "output_type": "stream",
     "text": [
      "1\n",
      "2\n",
      "3\n",
      "4\n",
      "5\n",
      "key :  name value join\n",
      "key :  age value 30\n",
      "key :  gender value male\n"
     ]
    }
   ],
   "source": [
    "my_func(1,2,3,4,5, name='join', age=30, gender='male')"
   ]
  },
  {
   "cell_type": "code",
   "execution_count": null,
   "id": "ce4f592e-3cf1-4235-9222-fff258393055",
   "metadata": {},
   "outputs": [],
   "source": []
  }
 ],
 "metadata": {
  "kernelspec": {
   "display_name": "Python 3 (ipykernel)",
   "language": "python",
   "name": "python3"
  },
  "language_info": {
   "codemirror_mode": {
    "name": "ipython",
    "version": 3
   },
   "file_extension": ".py",
   "mimetype": "text/x-python",
   "name": "python",
   "nbconvert_exporter": "python",
   "pygments_lexer": "ipython3",
   "version": "3.12.8"
  }
 },
 "nbformat": 4,
 "nbformat_minor": 5
}
