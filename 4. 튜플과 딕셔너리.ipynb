{
 "cells": [
  {
   "cell_type": "code",
   "execution_count": 1,
   "id": "23796873-bd5c-4318-b294-2418a99aeaf2",
   "metadata": {},
   "outputs": [
    {
     "data": {
      "text/plain": [
       "('스쿼트', '런지', '레그컬')"
      ]
     },
     "execution_count": 1,
     "metadata": {},
     "output_type": "execute_result"
    }
   ],
   "source": [
    "# 튜플은 프로그램이 시작되면 내용을 변경 할 수 없음\n",
    "# 중요 개인정보를 데이터 처리할 때 사용(ex)주민번호)\n",
    "\n",
    "leg_day = ('스쿼트', '런지', '레그컬')\n",
    "leg_day"
   ]
  },
  {
   "cell_type": "code",
   "execution_count": 2,
   "id": "61296f5a-b129-4e35-a426-e0d57e90bb1f",
   "metadata": {},
   "outputs": [
    {
     "data": {
      "text/plain": [
       "'스쿼트'"
      ]
     },
     "execution_count": 2,
     "metadata": {},
     "output_type": "execute_result"
    }
   ],
   "source": [
    "leg_day[0]"
   ]
  },
  {
   "cell_type": "code",
   "execution_count": 3,
   "id": "70f0c4a3-6a58-4baa-8907-329bcaa0efb4",
   "metadata": {},
   "outputs": [
    {
     "ename": "TypeError",
     "evalue": "'tuple' object does not support item assignment",
     "output_type": "error",
     "traceback": [
      "\u001b[1;31m---------------------------------------------------------------------------\u001b[0m",
      "\u001b[1;31mTypeError\u001b[0m                                 Traceback (most recent call last)",
      "Cell \u001b[1;32mIn[3], line 1\u001b[0m\n\u001b[1;32m----> 1\u001b[0m leg_day[\u001b[38;5;241m0\u001b[39m] \u001b[38;5;241m=\u001b[39m \u001b[38;5;124m'\u001b[39m\u001b[38;5;124m벤치프레스\u001b[39m\u001b[38;5;124m'\u001b[39m\n",
      "\u001b[1;31mTypeError\u001b[0m: 'tuple' object does not support item assignment"
     ]
    }
   ],
   "source": [
    "leg_day[0] = '벤치프레스'"
   ]
  },
  {
   "cell_type": "code",
   "execution_count": 4,
   "id": "916d4e3e-f9e8-4a9f-bbcb-6b6ac3054240",
   "metadata": {},
   "outputs": [
    {
     "ename": "AttributeError",
     "evalue": "'tuple' object has no attribute 'append'",
     "output_type": "error",
     "traceback": [
      "\u001b[1;31m---------------------------------------------------------------------------\u001b[0m",
      "\u001b[1;31mAttributeError\u001b[0m                            Traceback (most recent call last)",
      "Cell \u001b[1;32mIn[4], line 1\u001b[0m\n\u001b[1;32m----> 1\u001b[0m leg_day\u001b[38;5;241m.\u001b[39mappend(\u001b[38;5;124m'\u001b[39m\u001b[38;5;124m숄더프레스\u001b[39m\u001b[38;5;124m'\u001b[39m)\n",
      "\u001b[1;31mAttributeError\u001b[0m: 'tuple' object has no attribute 'append'"
     ]
    }
   ],
   "source": [
    "leg_day.append('숄더프레스')"
   ]
  },
  {
   "cell_type": "code",
   "execution_count": 5,
   "id": "6981dc33-7c03-4572-b051-b73138a25d18",
   "metadata": {},
   "outputs": [
    {
     "ename": "TypeError",
     "evalue": "'tuple' object doesn't support item deletion",
     "output_type": "error",
     "traceback": [
      "\u001b[1;31m---------------------------------------------------------------------------\u001b[0m",
      "\u001b[1;31mTypeError\u001b[0m                                 Traceback (most recent call last)",
      "Cell \u001b[1;32mIn[5], line 1\u001b[0m\n\u001b[1;32m----> 1\u001b[0m \u001b[38;5;28;01mdel\u001b[39;00m leg_day[\u001b[38;5;241m0\u001b[39m]\n",
      "\u001b[1;31mTypeError\u001b[0m: 'tuple' object doesn't support item deletion"
     ]
    }
   ],
   "source": [
    "del leg_day[0]                # 위에를 포함해서 튜플은 수정이 불가능함"
   ]
  },
  {
   "cell_type": "code",
   "execution_count": 6,
   "id": "202192d8-0cee-4953-9d3d-3d18ef8e48f5",
   "metadata": {},
   "outputs": [
    {
     "data": {
      "text/plain": [
       "{'삼성전자': 60000, '하이넥스': 140000, '네이버': 350000}"
      ]
     },
     "execution_count": 6,
     "metadata": {},
     "output_type": "execute_result"
    }
   ],
   "source": [
    "# 딕셔너리 { key : value }\n",
    "\n",
    "stock_prices = { \n",
    "    '삼성전자' : 60000,\n",
    "    '하이넥스' : 140000,\n",
    "    '네이버' : 350000\n",
    "}\n",
    "\n",
    "stock_prices"
   ]
  },
  {
   "cell_type": "code",
   "execution_count": 7,
   "id": "551bdc1f-903d-4661-8ae7-6e97d9ed817b",
   "metadata": {},
   "outputs": [
    {
     "data": {
      "text/plain": [
       "60000"
      ]
     },
     "execution_count": 7,
     "metadata": {},
     "output_type": "execute_result"
    }
   ],
   "source": [
    "stock_prices['삼성전자']"
   ]
  },
  {
   "cell_type": "code",
   "execution_count": 8,
   "id": "b03fb27b-4e09-442a-be66-d0e9a2bfc048",
   "metadata": {},
   "outputs": [
    {
     "ename": "KeyError",
     "evalue": "'카카오'",
     "output_type": "error",
     "traceback": [
      "\u001b[1;31m---------------------------------------------------------------------------\u001b[0m",
      "\u001b[1;31mKeyError\u001b[0m                                  Traceback (most recent call last)",
      "Cell \u001b[1;32mIn[8], line 1\u001b[0m\n\u001b[1;32m----> 1\u001b[0m stock_prices[\u001b[38;5;124m'\u001b[39m\u001b[38;5;124m카카오\u001b[39m\u001b[38;5;124m'\u001b[39m]\n",
      "\u001b[1;31mKeyError\u001b[0m: '카카오'"
     ]
    }
   ],
   "source": [
    "stock_prices['카카오']          # 없으면 안나옴"
   ]
  },
  {
   "cell_type": "code",
   "execution_count": 9,
   "id": "7ca9b1be-7257-4ba5-9fd9-97f0c434afda",
   "metadata": {},
   "outputs": [
    {
     "name": "stdout",
     "output_type": "stream",
     "text": [
      "삼성전자\n",
      "하이넥스\n",
      "네이버\n"
     ]
    }
   ],
   "source": [
    "for key_value in stock_prices:\n",
    "    print(key_value)"
   ]
  },
  {
   "cell_type": "code",
   "execution_count": 12,
   "id": "729ee619-b6cb-41cf-bc5b-1c8ef327f74d",
   "metadata": {},
   "outputs": [
    {
     "name": "stdout",
     "output_type": "stream",
     "text": [
      "삼성전자\n",
      "하이넥스\n",
      "네이버\n"
     ]
    }
   ],
   "source": [
    "for key in stock_prices.keys():\n",
    "    print(key)"
   ]
  },
  {
   "cell_type": "code",
   "execution_count": 13,
   "id": "53920ced-9a8a-4a23-a46b-d2e45fd3e614",
   "metadata": {},
   "outputs": [
    {
     "name": "stdout",
     "output_type": "stream",
     "text": [
      "60000\n",
      "140000\n",
      "350000\n"
     ]
    }
   ],
   "source": [
    "for value in stock_prices.values():\n",
    "    print(value)"
   ]
  },
  {
   "cell_type": "code",
   "execution_count": 14,
   "id": "b894540b-9bec-4470-9079-07cd03b28f30",
   "metadata": {},
   "outputs": [
    {
     "name": "stdout",
     "output_type": "stream",
     "text": [
      "삼성전자 60000\n",
      "하이넥스 140000\n",
      "네이버 350000\n"
     ]
    }
   ],
   "source": [
    "for key, value in stock_prices.items():           # key values 둘 다 보려면 items 사용\n",
    "    print(key, value)"
   ]
  },
  {
   "cell_type": "code",
   "execution_count": 15,
   "id": "c6ee8795-e9fa-44c6-bb62-ca79baf221d6",
   "metadata": {},
   "outputs": [
    {
     "name": "stdout",
     "output_type": "stream",
     "text": [
      "삼성전자 [60000, 61000, 62000]\n",
      "하이넥스 [140000, 141000, 150000]\n",
      "네이버 [350000, 355000, 360000]\n"
     ]
    }
   ],
   "source": [
    "# key  별 주가를 더해서 평균 주가 프린트  - sum(), len()\n",
    "\n",
    "stock_prices = { \n",
    "    '삼성전자' : [60000, 61000, 62000],\n",
    "    '하이넥스' : [140000, 141000, 150000],\n",
    "    '네이버' : [350000, 355000, 360000]\n",
    "}\n",
    "\n",
    "for key, value in stock_prices.items():\n",
    "    print(key, value)"
   ]
  },
  {
   "cell_type": "code",
   "execution_count": 23,
   "id": "7471a5a3-aaad-47d6-ba45-35365cbb52ff",
   "metadata": {},
   "outputs": [
    {
     "name": "stdout",
     "output_type": "stream",
     "text": [
      " 삼성전자 평균 주가 61000\n",
      " 하이넥스 평균 주가 157750\n",
      " 네이버 평균 주가 355000\n"
     ]
    }
   ],
   "source": [
    "stock_prices = { \n",
    "    '삼성전자' : [60000, 61000, 62000],\n",
    "    '하이넥스' : [140000, 141000, 150000, 200000],\n",
    "    '네이버' : [350000, 355000, 360000]\n",
    "}\n",
    "\n",
    "for key, value in stock_prices.items():\n",
    "    avg = sum(value) / len(value)\n",
    "    print(f' {key} 평균 주가 {int(avg)}')"
   ]
  },
  {
   "cell_type": "code",
   "execution_count": null,
   "id": "18005ac4-3599-4e87-99d6-4741ff045993",
   "metadata": {},
   "outputs": [],
   "source": [
    "# 각 회사별로 주가의 최고가 와 최저가를 구하시오.\n",
    "\n",
    "stock_prices = { \n",
    "    '삼성전자' : {'최고가' : 80000, '최저가' : 61000, '현재가' : 62000},\n",
    "    'SK하이넥스' : {'최고가' : 160000, '최저가' : 141000, '현재가' : 150000},\n",
    "    '네이버' : {'최고가' : 400000, '최저가' : 305000, '현재가' : 360000}\n",
    "}"
   ]
  },
  {
   "cell_type": "code",
   "execution_count": 25,
   "id": "af0d3624-d6f7-4201-b8e7-575d359956c8",
   "metadata": {},
   "outputs": [
    {
     "name": "stdout",
     "output_type": "stream",
     "text": [
      "삼성전자 {'최고가': 80000, '최저가': 61000, '현재가': 62000}\n",
      "SK하이넥스 {'최고가': 160000, '최저가': 141000, '현재가': 150000}\n",
      "네이버 {'최고가': 400000, '최저가': 305000, '현재가': 360000}\n"
     ]
    }
   ],
   "source": [
    "stock_prices = { \n",
    "    '삼성전자' : {'최고가' : 80000, '최저가' : 61000, '현재가' : 62000},\n",
    "    'SK하이넥스' : {'최고가' : 160000, '최저가' : 141000, '현재가' : 150000},\n",
    "    '네이버' : {'최고가' : 400000, '최저가' : 305000, '현재가' : 360000}\n",
    "}\n",
    "for key, value in stock_prices.items():\n",
    "    print(key, value)"
   ]
  },
  {
   "cell_type": "code",
   "execution_count": 30,
   "id": "37199cad-152e-47c2-b0da-d3c6d3e983ce",
   "metadata": {},
   "outputs": [
    {
     "name": "stdout",
     "output_type": "stream",
     "text": [
      "삼성전자 - 최고가80000, 최저가61000\n",
      "SK하이넥스 - 최고가160000, 최저가141000\n",
      "네이버 - 최고가400000, 최저가305000\n"
     ]
    }
   ],
   "source": [
    "stock_prices = { \n",
    "    '삼성전자' : {'최고가' : 80000, '최저가' : 61000, '현재가' : 62000},\n",
    "    'SK하이넥스' : {'최고가' : 160000, '최저가' : 141000, '현재가' : 150000},\n",
    "    '네이버' : {'최고가' : 400000, '최저가' : 305000, '현재가' : 360000}\n",
    "}\n",
    "for key, value in stock_prices.items():\n",
    "    print(f'{key} - 최고가{value[\"최고가\"]}, 최저가{value[\"최저가\"]}') "
   ]
  },
  {
   "cell_type": "code",
   "execution_count": 33,
   "id": "2a986e25-8365-4d07-b2a6-d60a350d4502",
   "metadata": {},
   "outputs": [
    {
     "name": "stdout",
     "output_type": "stream",
     "text": [
      "삼성전자 - 최고가 : 80000, 최저가 : 61000\n",
      "SK하이넥스 - 최고가 : 160000, 최저가 : 141000\n",
      "네이버 - 최고가 : 400000, 최저가 : 305000\n"
     ]
    }
   ],
   "source": [
    "for key, value in stock_prices.items():\n",
    "    max_value = value[\"최고가\"]\n",
    "    min_value = value[\"최저가\"]\n",
    "    print(f'{key} - 최고가 : {max_value}, 최저가 : {min_value}')"
   ]
  },
  {
   "cell_type": "code",
   "execution_count": null,
   "id": "99454bbe-f25c-4bff-834d-cfe861fc4d73",
   "metadata": {},
   "outputs": [],
   "source": []
  }
 ],
 "metadata": {
  "kernelspec": {
   "display_name": "Python 3 (ipykernel)",
   "language": "python",
   "name": "python3"
  },
  "language_info": {
   "codemirror_mode": {
    "name": "ipython",
    "version": 3
   },
   "file_extension": ".py",
   "mimetype": "text/x-python",
   "name": "python",
   "nbconvert_exporter": "python",
   "pygments_lexer": "ipython3",
   "version": "3.12.8"
  }
 },
 "nbformat": 4,
 "nbformat_minor": 5
}
