{
 "cells": [
  {
   "cell_type": "markdown",
   "id": "3b2d2af9-4784-4c0b-8abb-0e811ee34311",
   "metadata": {},
   "source": [
    "# 1. 조건문 예제\n",
    "\n",
    "## 1.1 짝수와 홀수 판별기기"
   ]
  },
  {
   "cell_type": "code",
   "execution_count": 7,
   "id": "7d43d5de-72dd-4416-9211-cb0de399d897",
   "metadata": {},
   "outputs": [
    {
     "name": "stdout",
     "output_type": "stream",
     "text": [
      "10은(는) 짝수입니다.\n"
     ]
    }
   ],
   "source": [
    "number = 10\n",
    "\n",
    "if number % 2  == 0:\n",
    "    print(f\"{number}은(는) 짝수입니다.\")\n",
    "else:\n",
    "    print(f\"{number}은(는) 홀수입니다.\")"
   ]
  },
  {
   "cell_type": "code",
   "execution_count": 27,
   "id": "b4d6fe42-fee0-4454-bb6f-05df7bd2e010",
   "metadata": {},
   "outputs": [
    {
     "name": "stdin",
     "output_type": "stream",
     "text": [
      "정수를 입력하세요 3\n"
     ]
    },
    {
     "name": "stdout",
     "output_type": "stream",
     "text": [
      "3은(는) 홀수입니다.\n"
     ]
    }
   ],
   "source": [
    "number = int(input('정수를 입력하세요'))     # int 는 input 값이 정수로 나오게 하는거같음 한번 물어봐야함\n",
    "\n",
    "if number % 2  == 0:\n",
    "    print(f\"{number}은(는) 짝수입니다.\")\n",
    "else:                                         # else 는 하나밖에 못씀\n",
    "    print(f\"{number}은(는) 홀수입니다.\")"
   ]
  },
  {
   "cell_type": "markdown",
   "id": "e7d81a21-9a19-451e-9425-b9107c099ab1",
   "metadata": {},
   "source": [
    "## 1.2 성적에 따른 학점 출력"
   ]
  },
  {
   "cell_type": "code",
   "execution_count": 15,
   "id": "5ad5329a-544f-44e7-bd5d-eb011eb4b5de",
   "metadata": {},
   "outputs": [
    {
     "name": "stdin",
     "output_type": "stream",
     "text": [
      "점수를 입력하세요 (0~100):  100\n"
     ]
    },
    {
     "name": "stdout",
     "output_type": "stream",
     "text": [
      "A학점입니다.\n"
     ]
    }
   ],
   "source": [
    "# 점수를 입력받아 학점을 출력\n",
    "score = int(input(\"점수를 입력하세요 (0 ~ 100): \"))\n",
    "\n",
    "if score >= 90:\n",
    "    print(\"A학점입니다.\")\n",
    "elif score >= 80:\n",
    "    print(\"B학점입니다.\")\n",
    "elif score >= 70:\n",
    "    print(\"C학점입니다.\")\n",
    "elif score >= 60:\n",
    "    print(\"D학점입니다.\")\n",
    "else:\n",
    "    print(\"F학점입니다.\")   # 마지막 59부터 아래로는 다 f 학점이라고 else를 씀 elif 는 해당되지않으면 다음으로 넘어간다라는것, elif 는 무제한 사용 가능"
   ]
  },
  {
   "cell_type": "markdown",
   "id": "e8de763e-7dfc-4f69-a640-3460a8c1a913",
   "metadata": {},
   "source": [
    "# 1.3 로그인 시스템"
   ]
  },
  {
   "cell_type": "code",
   "execution_count": 25,
   "id": "607c7a6b-0050-4cc1-83dc-99a84e0cb15e",
   "metadata": {},
   "outputs": [
    {
     "name": "stdin",
     "output_type": "stream",
     "text": [
      "사용자 아이디를 입력하세요 admin\n",
      "사용자 비밀번호를 입력하세요 1234\n"
     ]
    },
    {
     "name": "stdout",
     "output_type": "stream",
     "text": [
      "로그인 성공!\n"
     ]
    }
   ],
   "source": [
    "# 간단한 로그인 시스템\n",
    "user_id = \"admin\"\n",
    "user_pw = \"1234\"\n",
    "\n",
    "input_id = input('사용자 아이디를 입력하세요')\n",
    "input_pw = input('사용자 비밀번호를 입력하세요')\n",
    "\n",
    "if user_id == input_id:\n",
    "    if user_pw == input_pw:\n",
    "        print('로그인 성공!')\n",
    "    else:\n",
    "        print('비밀번호가 틀립니다.')\n",
    "else:\n",
    "    print('등록된 사용자 아이디가 틀립니다.')"
   ]
  },
  {
   "cell_type": "code",
   "execution_count": 18,
   "id": "f9f8f92b-e0ed-4717-a890-66d9e0bb5eff",
   "metadata": {},
   "outputs": [
    {
     "name": "stdin",
     "output_type": "stream",
     "text": [
      "사용자 아이디를 입력하세요 admin\n",
      "사용자 비밀번호를 입력하세요 1234\n"
     ]
    },
    {
     "name": "stdout",
     "output_type": "stream",
     "text": [
      "로그인 성공!\n"
     ]
    }
   ],
   "source": [
    "# 간단한 로그인 시스템\n",
    "user_id = \"admin\"\n",
    "user_pw = \"1234\"\n",
    "\n",
    "input_id = input('사용자 아이디를 입력하세요')\n",
    "input_pw = input('사용자 비밀번호를 입력하세요')\n",
    "\n",
    "if user_id == input_id and user_pw == input_pw:\n",
    "    print('로그인 성공!')\n",
    "else:\n",
    "    print('등록된 사용자 아이디 또는 비밀번호가 틀립니다.')"
   ]
  },
  {
   "cell_type": "markdown",
   "id": "925d6107-290c-4b03-bb3f-124d671bb193",
   "metadata": {},
   "source": [
    "# 2. 반복문 예제"
   ]
  },
  {
   "cell_type": "markdown",
   "id": "e75066b4-f62b-42c9-9a35-e0bcab7fff56",
   "metadata": {},
   "source": [
    "## 2.1 1부터 10까지 출력 (for문)"
   ]
  },
  {
   "cell_type": "code",
   "execution_count": 22,
   "id": "05cccd27-362f-4c0b-82b5-9c6080211c05",
   "metadata": {},
   "outputs": [
    {
     "name": "stdout",
     "output_type": "stream",
     "text": [
      "1\n",
      "2\n",
      "3\n",
      "4\n",
      "5\n",
      "6\n",
      "7\n",
      "8\n",
      "9\n",
      "10\n"
     ]
    }
   ],
   "source": [
    "for i in range(1, 11, 1): # (초기값, 목표값. 증가값)\n",
    "    print(i)"
   ]
  },
  {
   "cell_type": "code",
   "execution_count": 23,
   "id": "73c2060b-9a8a-4acf-89f7-11321cdabe27",
   "metadata": {},
   "outputs": [
    {
     "name": "stdout",
     "output_type": "stream",
     "text": [
      "1\n",
      "3\n",
      "5\n",
      "7\n",
      "9\n"
     ]
    }
   ],
   "source": [
    "for i in range(1, 11, 2): #(초기값, 목표값. 증가값)\n",
    "    print(i)"
   ]
  },
  {
   "cell_type": "code",
   "execution_count": 24,
   "id": "e9b4fe32-32fa-46dd-86cb-03e2aa23cc79",
   "metadata": {},
   "outputs": [
    {
     "name": "stdout",
     "output_type": "stream",
     "text": [
      "a\n",
      "b\n",
      "c\n",
      "d\n"
     ]
    }
   ],
   "source": [
    "text_list = ['a', 'b', 'c', 'd']\n",
    "\n",
    "for txt in text_list:\n",
    "    print(txt)"
   ]
  },
  {
   "cell_type": "code",
   "execution_count": 28,
   "id": "76d25d5f-e4b1-43d1-9841-3dcaf83f4418",
   "metadata": {},
   "outputs": [
    {
     "name": "stdout",
     "output_type": "stream",
     "text": [
      "a b c d "
     ]
    }
   ],
   "source": [
    "text_list = ['a', 'b', 'c', 'd']\n",
    "\n",
    "for txt in text_list:\n",
    "    print(txt, end=\" \")      # 이렇게 입력시 가로로 값이 나옴"
   ]
  },
  {
   "cell_type": "markdown",
   "id": "bce45829-8dc0-4a2f-8141-44331c2fd834",
   "metadata": {},
   "source": [
    "## 2.2 특정 단 구구단 출력"
   ]
  },
  {
   "cell_type": "code",
   "execution_count": 29,
   "id": "6b1f564a-046f-4939-acc7-30fda3deea26",
   "metadata": {},
   "outputs": [
    {
     "name": "stdin",
     "output_type": "stream",
     "text": [
      "출력할 구구단의 단수를 입력하세요:  5\n"
     ]
    },
    {
     "name": "stdout",
     "output_type": "stream",
     "text": [
      "5 X 1 = 5\n",
      "5 X 2 = 10\n",
      "5 X 3 = 15\n",
      "5 X 4 = 20\n",
      "5 X 5 = 25\n",
      "5 X 6 = 30\n",
      "5 X 7 = 35\n",
      "5 X 8 = 40\n",
      "5 X 9 = 45\n"
     ]
    }
   ],
   "source": [
    "# 사용자로부터 구구단 단수를 입력받아 출력\n",
    "dan = int(input(\"출력할 구구단의 단수를 입력하세요: \"))\n",
    "\n",
    "for i in range(1, 10):                  # dan 이 5(5 넣었으니까) * i(i는 1~9까지니까)\n",
    "    print(f'{dan} X {i} = { dan * i}')"
   ]
  },
  {
   "cell_type": "markdown",
   "id": "403a4533-1d3d-4266-b3e1-a0a34f9b0daf",
   "metadata": {},
   "source": [
    "## 2.3 리스트 요소 출력"
   ]
  },
  {
   "cell_type": "code",
   "execution_count": 32,
   "id": "34f4ad4a-3242-41d5-bdbf-b3b08ee49d65",
   "metadata": {},
   "outputs": [
    {
     "name": "stdout",
     "output_type": "stream",
     "text": [
      "사과\n",
      "바나나\n",
      "포도\n",
      "오렌지\n"
     ]
    }
   ],
   "source": [
    "# 리스트에 저장된 과일 이름 출력\n",
    "fruits = [\"사과\", \"바나나\", \"포도\", \"오렌지\"]\n",
    "\n",
    "for fruit in fruits:\n",
    "    print(fruit)"
   ]
  },
  {
   "cell_type": "markdown",
   "id": "b590f98a-0d83-4ddc-83ff-7eb6ca08e5a0",
   "metadata": {},
   "source": [
    "## 2.4 for 문 사용해서 1~100까지 합계 구하기"
   ]
  },
  {
   "cell_type": "code",
   "execution_count": 37,
   "id": "747898a6-21af-4967-be35-467b32394cf0",
   "metadata": {},
   "outputs": [
    {
     "name": "stdout",
     "output_type": "stream",
     "text": [
      "합계 =  5050\n"
     ]
    }
   ],
   "source": [
    "tot = 0\n",
    "\n",
    "for i in range(1, 101):\n",
    "    tot = tot + i\n",
    "\n",
    "print('합계 = ', tot)"
   ]
  },
  {
   "cell_type": "markdown",
   "id": "3780cfed-a056-4ad3-a43a-b80b88d24b1e",
   "metadata": {},
   "source": [
    "## 2.5 while 문 사용해서 1~100까지 합계 구하기"
   ]
  },
  {
   "cell_type": "code",
   "execution_count": 36,
   "id": "c1014b66-92f3-4795-bff7-83a3c9f9daa1",
   "metadata": {},
   "outputs": [
    {
     "name": "stdout",
     "output_type": "stream",
     "text": [
      "합계 =  5151\n"
     ]
    }
   ],
   "source": [
    "tot = 0\n",
    "cnt = 0\n",
    "\n",
    "while True:\n",
    "    if cnt > 100:\n",
    "        break\n",
    "        \n",
    "    cnt = cnt + 1\n",
    "    tot = tot + cnt\n",
    "\n",
    "print('합계 = ', tot)"
   ]
  },
  {
   "cell_type": "code",
   "execution_count": 38,
   "id": "f268ac72-5f1d-4c15-9b8b-1e247fcb7e67",
   "metadata": {},
   "outputs": [
    {
     "name": "stdout",
     "output_type": "stream",
     "text": [
      "합계 =  5050\n"
     ]
    }
   ],
   "source": [
    "tot = 0\n",
    "cnt = 0\n",
    "\n",
    "while True:\n",
    "    if cnt == 100:\n",
    "        break\n",
    "        \n",
    "    cnt = cnt + 1\n",
    "    tot = tot + cnt\n",
    "\n",
    "print('합계 = ', tot)"
   ]
  },
  {
   "cell_type": "markdown",
   "id": "64363e2e-6460-4a46-99dd-75395f5aee51",
   "metadata": {},
   "source": [
    "tot = 0\n",
    "cnt = 0\n",
    "\n",
    "while True:\n",
    "    if cnt > 99:\n",
    "        break                         # 이조건이 참일때 이 루프에서 탈출한다\n",
    "        \n",
    "    cnt = cnt + 1\n",
    "    tot = tot + cnt\n",
    "\n",
    "print('합계 = ', tot)"
   ]
  },
  {
   "cell_type": "code",
   "execution_count": 42,
   "id": "6f36f6c1-64de-4d36-8cfe-59b51156415b",
   "metadata": {},
   "outputs": [
    {
     "name": "stdout",
     "output_type": "stream",
     "text": [
      "합계 =  5151\n"
     ]
    }
   ],
   "source": [
    "tot = 0\n",
    "cnt = 0\n",
    "\n",
    "while cnt <= 100:                    #이조건이 거짓일때 이 루프에서 탈출한다\n",
    "    cnt = cnt + 1\n",
    "    tot = tot + cnt\n",
    "\n",
    "print('합계 = ', tot)"
   ]
  },
  {
   "cell_type": "code",
   "execution_count": 43,
   "id": "7a49c9c3-3dbc-4d3f-9e2c-a65d156da00a",
   "metadata": {},
   "outputs": [
    {
     "name": "stdout",
     "output_type": "stream",
     "text": [
      "1부터 101까지의 합은 5151입니다.\n"
     ]
    }
   ],
   "source": [
    "tot = 0\n",
    "cnt = 0\n",
    "\n",
    "while cnt <= 100:                    #이조건이 거짓일때 이 루프에서 탈출한다\n",
    "    cnt = cnt + 1\n",
    "    tot = tot + cnt\n",
    "\n",
    "print(f\"1부터 {cnt}까지의 합은 {tot}입니다.\")"
   ]
  },
  {
   "cell_type": "markdown",
   "id": "8b8d0150-0cbd-4ddf-8b52-512e32e1f598",
   "metadata": {},
   "source": [
    "## 2.6 continue 사용 예제"
   ]
  },
  {
   "cell_type": "code",
   "execution_count": 35,
   "id": "64b79a96-5241-44a8-ad59-c12a757f1140",
   "metadata": {},
   "outputs": [
    {
     "name": "stdout",
     "output_type": "stream",
     "text": [
      "2\n",
      "4\n",
      "6\n",
      "8\n",
      "10\n"
     ]
    }
   ],
   "source": [
    "# 1 부터 10 까지 출력하는데 짝수만 출력하시오.\n",
    "\n",
    "for i in range(1, 11, 1):\n",
    "    if i % 2 == 1:              #  % = 나머지 \n",
    "        continue                # 조건이 맞으면 값으로 출력해라\n",
    "    print(i)"
   ]
  },
  {
   "cell_type": "markdown",
   "id": "671ffdf8-7407-49c9-b27a-27f4c4977213",
   "metadata": {},
   "source": [
    "## 2.7 별 출력 프로그램"
   ]
  },
  {
   "cell_type": "code",
   "execution_count": 47,
   "id": "846f313f-eb47-46f1-baa5-947d621dcac0",
   "metadata": {},
   "outputs": [
    {
     "name": "stdout",
     "output_type": "stream",
     "text": [
      "*****\n"
     ]
    }
   ],
   "source": [
    "print('*' * 5)"
   ]
  },
  {
   "cell_type": "code",
   "execution_count": 46,
   "id": "d669fc5b-ca86-43fd-8e98-2297246d11e4",
   "metadata": {},
   "outputs": [
    {
     "name": "stdin",
     "output_type": "stream",
     "text": [
      "출력할 줄 수를 입력하세요: 5\n"
     ]
    },
    {
     "name": "stdout",
     "output_type": "stream",
     "text": [
      "*\n",
      "**\n",
      "***\n",
      "****\n",
      "*****\n"
     ]
    }
   ],
   "source": [
    "# 사용자로 부터 숫자를 입력받아서 해당 숫자 만큼 별을 출력\n",
    "\n",
    "n = int(input('출력할 줄 수를 입력하세요:'))\n",
    "\n",
    "for i in range(1, n + 1):\n",
    "    print('*' * i)"
   ]
  },
  {
   "cell_type": "markdown",
   "id": "7b6d2bab-e07e-4db8-8557-08096f707148",
   "metadata": {},
   "source": [
    "## 2.8 숫자 피라미드 만들기"
   ]
  },
  {
   "cell_type": "code",
   "execution_count": 21,
   "id": "f33809c4-ca4d-4e4e-8da6-6ae74c2e146b",
   "metadata": {},
   "outputs": [
    {
     "name": "stdin",
     "output_type": "stream",
     "text": [
      "피라미드의 높이를 입력하세요: 5\n"
     ]
    },
    {
     "name": "stdout",
     "output_type": "stream",
     "text": [
      "1 \n",
      "1 2 \n",
      "1 2 3 \n",
      "1 2 3 4 \n",
      "1 2 3 4 5 \n"
     ]
    }
   ],
   "source": [
    "n = int(input('피라미드의 높이를 입력하세요:'))\n",
    "\n",
    "for i in range(1, n + 1 ):\n",
    "    for j in range(1, i + 1):\n",
    "        print( j, end=' ')\n",
    "    print()"
   ]
  },
  {
   "cell_type": "code",
   "execution_count": null,
   "id": "fda4253b-24f5-4d3c-b7bf-f5d8a9688c5f",
   "metadata": {},
   "outputs": [],
   "source": [
    "n = int(input('피라미드의 높이를 입력하세요:'))\n",
    "\n",
    "for i in range(1, n + 1 ):\n",
    "    for j in range(1, i + 1):\n",
    "        print( j, end=' ')\n",
    "    print()"
   ]
  },
  {
   "cell_type": "markdown",
   "id": "115cf838-f2d2-4d16-a86b-02b23a3f1495",
   "metadata": {},
   "source": [
    "## 2.9 구구단 만들기"
   ]
  },
  {
   "cell_type": "code",
   "execution_count": 100,
   "id": "caf3eb22-6b1a-403a-90d8-b6d66a9d3741",
   "metadata": {},
   "outputs": [
    {
     "name": "stdout",
     "output_type": "stream",
     "text": [
      "\n",
      "   1단\n",
      " 1 X 1 = 1\t 1 X 2 = 2\t 1 X 3 = 3\t 1 X 4 = 4\t 1 X 5 = 5\t 1 X 6 = 6\t 1 X 7 = 7\t 1 X 8 = 8\t 1 X 9 = 9\t\n",
      "   2단\n",
      " 2 X 1 = 2\t 2 X 2 = 4\t 2 X 3 = 6\t 2 X 4 = 8\t 2 X 5 = 10\t 2 X 6 = 12\t 2 X 7 = 14\t 2 X 8 = 16\t 2 X 9 = 18\t\n",
      "   3단\n",
      " 3 X 1 = 3\t 3 X 2 = 6\t 3 X 3 = 9\t 3 X 4 = 12\t 3 X 5 = 15\t 3 X 6 = 18\t 3 X 7 = 21\t 3 X 8 = 24\t 3 X 9 = 27\t\n",
      "   4단\n",
      " 4 X 1 = 4\t 4 X 2 = 8\t 4 X 3 = 12\t 4 X 4 = 16\t 4 X 5 = 20\t 4 X 6 = 24\t 4 X 7 = 28\t 4 X 8 = 32\t 4 X 9 = 36\t\n",
      "   5단\n",
      " 5 X 1 = 5\t 5 X 2 = 10\t 5 X 3 = 15\t 5 X 4 = 20\t 5 X 5 = 25\t 5 X 6 = 30\t 5 X 7 = 35\t 5 X 8 = 40\t 5 X 9 = 45\t\n",
      "   6단\n",
      " 6 X 1 = 6\t 6 X 2 = 12\t 6 X 3 = 18\t 6 X 4 = 24\t 6 X 5 = 30\t 6 X 6 = 36\t 6 X 7 = 42\t 6 X 8 = 48\t 6 X 9 = 54\t\n",
      "   7단\n",
      " 7 X 1 = 7\t 7 X 2 = 14\t 7 X 3 = 21\t 7 X 4 = 28\t 7 X 5 = 35\t 7 X 6 = 42\t 7 X 7 = 49\t 7 X 8 = 56\t 7 X 9 = 63\t\n",
      "   8단\n",
      " 8 X 1 = 8\t 8 X 2 = 16\t 8 X 3 = 24\t 8 X 4 = 32\t 8 X 5 = 40\t 8 X 6 = 48\t 8 X 7 = 56\t 8 X 8 = 64\t 8 X 9 = 72\t\n",
      "   9단\n",
      " 9 X 1 = 9\t 9 X 2 = 18\t 9 X 3 = 27\t 9 X 4 = 36\t 9 X 5 = 45\t 9 X 6 = 54\t 9 X 7 = 63\t 9 X 8 = 72\t 9 X 9 = 81\t"
     ]
    }
   ],
   "source": [
    "for i in range(1, 10):\n",
    "    print(f'\\n   {i}단')\n",
    "    for j in range(1, 10):\n",
    "        print(f' {i} X {j} = {i * j}', end=\"\\t\")  # f 출력방식 f스트링"
   ]
  },
  {
   "cell_type": "code",
   "execution_count": 42,
   "id": "b0d5be0b-5ebb-423b-9cdb-35e1a0fd3353",
   "metadata": {},
   "outputs": [
    {
     "name": "stdout",
     "output_type": "stream",
     "text": [
      "\n",
      "   1 단\n",
      " 1 X 1 = 1  1 X 2 = 2  1 X 3 = 3  1 X 4 = 4  1 X 5 = 5  1 X 6 = 6  1 X 7 = 7  1 X 8 = 8  1 X 9 = 9 \n",
      "   2 단\n",
      " 2 X 1 = 2  2 X 2 = 4  2 X 3 = 6  2 X 4 = 8  2 X 5 = 10  2 X 6 = 12  2 X 7 = 14  2 X 8 = 16  2 X 9 = 18 \n",
      "   3 단\n",
      " 3 X 1 = 3  3 X 2 = 6  3 X 3 = 9  3 X 4 = 12  3 X 5 = 15  3 X 6 = 18  3 X 7 = 21  3 X 8 = 24  3 X 9 = 27 \n",
      "   4 단\n",
      " 4 X 1 = 4  4 X 2 = 8  4 X 3 = 12  4 X 4 = 16  4 X 5 = 20  4 X 6 = 24  4 X 7 = 28  4 X 8 = 32  4 X 9 = 36 \n",
      "   5 단\n",
      " 5 X 1 = 5  5 X 2 = 10  5 X 3 = 15  5 X 4 = 20  5 X 5 = 25  5 X 6 = 30  5 X 7 = 35  5 X 8 = 40  5 X 9 = 45 \n",
      "   6 단\n",
      " 6 X 1 = 6  6 X 2 = 12  6 X 3 = 18  6 X 4 = 24  6 X 5 = 30  6 X 6 = 36  6 X 7 = 42  6 X 8 = 48  6 X 9 = 54 \n",
      "   7 단\n",
      " 7 X 1 = 7  7 X 2 = 14  7 X 3 = 21  7 X 4 = 28  7 X 5 = 35  7 X 6 = 42  7 X 7 = 49  7 X 8 = 56  7 X 9 = 63 \n",
      "   8 단\n",
      " 8 X 1 = 8  8 X 2 = 16  8 X 3 = 24  8 X 4 = 32  8 X 5 = 40  8 X 6 = 48  8 X 7 = 56  8 X 8 = 64  8 X 9 = 72 \n",
      "   9 단\n",
      " 9 X 1 = 9  9 X 2 = 18  9 X 3 = 27  9 X 4 = 36  9 X 5 = 45  9 X 6 = 54  9 X 7 = 63  9 X 8 = 72  9 X 9 = 81 "
     ]
    }
   ],
   "source": [
    "for i in range(1, 10):\n",
    "    print(f'\\n   {i} 단')\n",
    "    for j in range(1, 10):\n",
    "        print(f' {i} X {j} = {i * j}', end= \" \")"
   ]
  },
  {
   "cell_type": "code",
   "execution_count": 38,
   "id": "61ac259f-b674-46fb-bb09-2c5c0f00ba1a",
   "metadata": {},
   "outputs": [
    {
     "name": "stdout",
     "output_type": "stream",
     "text": [
      "\n",
      "   1 단\n",
      " 1 X 1 = 1\n",
      " 1 X 2 = 2\n",
      " 1 X 3 = 3\n",
      " 1 X 4 = 4\n",
      " 1 X 5 = 5\n",
      " 1 X 6 = 6\n",
      " 1 X 7 = 7\n",
      " 1 X 8 = 8\n",
      " 1 X 9 = 9\n",
      "\n",
      "   2 단\n",
      " 2 X 1 = 2\n",
      " 2 X 2 = 4\n",
      " 2 X 3 = 6\n",
      " 2 X 4 = 8\n",
      " 2 X 5 = 10\n",
      " 2 X 6 = 12\n",
      " 2 X 7 = 14\n",
      " 2 X 8 = 16\n",
      " 2 X 9 = 18\n",
      "\n",
      "   3 단\n",
      " 3 X 1 = 3\n",
      " 3 X 2 = 6\n",
      " 3 X 3 = 9\n",
      " 3 X 4 = 12\n",
      " 3 X 5 = 15\n",
      " 3 X 6 = 18\n",
      " 3 X 7 = 21\n",
      " 3 X 8 = 24\n",
      " 3 X 9 = 27\n",
      "\n",
      "   4 단\n",
      " 4 X 1 = 4\n",
      " 4 X 2 = 8\n",
      " 4 X 3 = 12\n",
      " 4 X 4 = 16\n",
      " 4 X 5 = 20\n",
      " 4 X 6 = 24\n",
      " 4 X 7 = 28\n",
      " 4 X 8 = 32\n",
      " 4 X 9 = 36\n",
      "\n",
      "   5 단\n",
      " 5 X 1 = 5\n",
      " 5 X 2 = 10\n",
      " 5 X 3 = 15\n",
      " 5 X 4 = 20\n",
      " 5 X 5 = 25\n",
      " 5 X 6 = 30\n",
      " 5 X 7 = 35\n",
      " 5 X 8 = 40\n",
      " 5 X 9 = 45\n",
      "\n",
      "   6 단\n",
      " 6 X 1 = 6\n",
      " 6 X 2 = 12\n",
      " 6 X 3 = 18\n",
      " 6 X 4 = 24\n",
      " 6 X 5 = 30\n",
      " 6 X 6 = 36\n",
      " 6 X 7 = 42\n",
      " 6 X 8 = 48\n",
      " 6 X 9 = 54\n",
      "\n",
      "   7 단\n",
      " 7 X 1 = 7\n",
      " 7 X 2 = 14\n",
      " 7 X 3 = 21\n",
      " 7 X 4 = 28\n",
      " 7 X 5 = 35\n",
      " 7 X 6 = 42\n",
      " 7 X 7 = 49\n",
      " 7 X 8 = 56\n",
      " 7 X 9 = 63\n",
      "\n",
      "   8 단\n",
      " 8 X 1 = 8\n",
      " 8 X 2 = 16\n",
      " 8 X 3 = 24\n",
      " 8 X 4 = 32\n",
      " 8 X 5 = 40\n",
      " 8 X 6 = 48\n",
      " 8 X 7 = 56\n",
      " 8 X 8 = 64\n",
      " 8 X 9 = 72\n",
      "\n",
      "   9 단\n",
      " 9 X 1 = 9\n",
      " 9 X 2 = 18\n",
      " 9 X 3 = 27\n",
      " 9 X 4 = 36\n",
      " 9 X 5 = 45\n",
      " 9 X 6 = 54\n",
      " 9 X 7 = 63\n",
      " 9 X 8 = 72\n",
      " 9 X 9 = 81\n"
     ]
    }
   ],
   "source": [
    "for i in range(1, 10):\n",
    "    print(f'\\n   {i} 단')\n",
    "    for j in range(1, 10):\n",
    "        print(f' {i} X {j} = {i * j}')"
   ]
  },
  {
   "cell_type": "code",
   "execution_count": 80,
   "id": "2152f549-2c1a-40ee-b2c7-744300d14a25",
   "metadata": {},
   "outputs": [
    {
     "name": "stdout",
     "output_type": "stream",
     "text": [
      " 1 X 1 = 1\t 2 X 1 = 2\t 3 X 1 = 3\t\n",
      "\n",
      " 1 X 2 = 2\t 2 X 2 = 4\t 3 X 2 = 6\t\n",
      "\n",
      " 1 X 3 = 3\t 2 X 3 = 6\t 3 X 3 = 9\t\n",
      "\n",
      " 1 X 4 = 4\t 2 X 4 = 8\t 3 X 4 = 12\t\n",
      "\n",
      " 1 X 5 = 5\t 2 X 5 = 10\t 3 X 5 = 15\t\n",
      "\n",
      " 1 X 6 = 6\t 2 X 6 = 12\t 3 X 6 = 18\t\n",
      "\n",
      " 1 X 7 = 7\t 2 X 7 = 14\t 3 X 7 = 21\t\n",
      "\n",
      " 1 X 8 = 8\t 2 X 8 = 16\t 3 X 8 = 24\t\n",
      "\n",
      " 1 X 9 = 9\t 2 X 9 = 18\t 3 X 9 = 27\t\n",
      "\n",
      "\n",
      "\n",
      " 4 X 1 = 4\t 5 X 1 = 5\t 6 X 1 = 6\t\n",
      "\n",
      " 4 X 2 = 8\t 5 X 2 = 10\t 6 X 2 = 12\t\n",
      "\n",
      " 4 X 3 = 12\t 5 X 3 = 15\t 6 X 3 = 18\t\n",
      "\n",
      " 4 X 4 = 16\t 5 X 4 = 20\t 6 X 4 = 24\t\n",
      "\n",
      " 4 X 5 = 20\t 5 X 5 = 25\t 6 X 5 = 30\t\n",
      "\n",
      " 4 X 6 = 24\t 5 X 6 = 30\t 6 X 6 = 36\t\n",
      "\n",
      " 4 X 7 = 28\t 5 X 7 = 35\t 6 X 7 = 42\t\n",
      "\n",
      " 4 X 8 = 32\t 5 X 8 = 40\t 6 X 8 = 48\t\n",
      "\n",
      " 4 X 9 = 36\t 5 X 9 = 45\t 6 X 9 = 54\t\n",
      "\n",
      "\n",
      "\n",
      " 7 X 1 = 7\t 8 X 1 = 8\t 9 X 1 = 9\t\n",
      "\n",
      " 7 X 2 = 14\t 8 X 2 = 16\t 9 X 2 = 18\t\n",
      "\n",
      " 7 X 3 = 21\t 8 X 3 = 24\t 9 X 3 = 27\t\n",
      "\n",
      " 7 X 4 = 28\t 8 X 4 = 32\t 9 X 4 = 36\t\n",
      "\n",
      " 7 X 5 = 35\t 8 X 5 = 40\t 9 X 5 = 45\t\n",
      "\n",
      " 7 X 6 = 42\t 8 X 6 = 48\t 9 X 6 = 54\t\n",
      "\n",
      " 7 X 7 = 49\t 8 X 7 = 56\t 9 X 7 = 63\t\n",
      "\n",
      " 7 X 8 = 56\t 8 X 8 = 64\t 9 X 8 = 72\t\n",
      "\n",
      " 7 X 9 = 63\t 8 X 9 = 72\t 9 X 9 = 81\t\n",
      "\n",
      "\n",
      "\n"
     ]
    }
   ],
   "source": [
    "for i in range(1, 10):\n",
    "    for j in range(1, 4):\n",
    "        print(f' {j} X {i} = {i * j}', end='\\t')\n",
    "    print(\"\\n\")\n",
    "print(\"\\n\")\n",
    "\n",
    "for i in range(1, 10):\n",
    "    for j in range(4, 7):\n",
    "        print(f' {j} X {i} = {i * j}', end='\\t')\n",
    "    print(\"\\n\")\n",
    "print(\"\\n\")\n",
    "\n",
    "for i in range(1, 10):\n",
    "    for j in range(7, 10):\n",
    "        print(f' {j} X {i} = {i * j}', end='\\t')\n",
    "    print(\"\\n\")\n",
    "print(\"\\n\")"
   ]
  },
  {
   "cell_type": "code",
   "execution_count": 107,
   "id": "ad931d30-0721-43af-a1cc-d3732544091d",
   "metadata": {},
   "outputs": [
    {
     "name": "stdout",
     "output_type": "stream",
     "text": [
      " 1 X 1 = 1\n",
      " 2 X 1 = 2\n",
      " 3 X 1 = 3\n",
      "\n",
      "\n",
      " 1 X 2 = 2\n",
      " 2 X 2 = 4\n",
      " 3 X 2 = 6\n",
      "\n",
      "\n",
      " 1 X 3 = 3\n",
      " 2 X 3 = 6\n",
      " 3 X 3 = 9\n",
      "\n",
      "\n",
      " 1 X 4 = 4\n",
      " 2 X 4 = 8\n",
      " 3 X 4 = 12\n",
      "\n",
      "\n",
      " 1 X 5 = 5\n",
      " 2 X 5 = 10\n",
      " 3 X 5 = 15\n",
      "\n",
      "\n",
      " 1 X 6 = 6\n",
      " 2 X 6 = 12\n",
      " 3 X 6 = 18\n",
      "\n",
      "\n",
      " 1 X 7 = 7\n",
      " 2 X 7 = 14\n",
      " 3 X 7 = 21\n",
      "\n",
      "\n",
      " 1 X 8 = 8\n",
      " 2 X 8 = 16\n",
      " 3 X 8 = 24\n",
      "\n",
      "\n",
      " 1 X 9 = 9\n",
      " 2 X 9 = 18\n",
      " 3 X 9 = 27\n",
      "\n",
      "\n",
      "\n",
      "\n"
     ]
    }
   ],
   "source": [
    "for i in range(1, 10):\n",
    "    for j in range(1, 4):\n",
    "        print(f' {j} X {i} = {i * j}')\n",
    "    print(\"\\n\")\n",
    "print(\"\\n\")"
   ]
  },
  {
   "cell_type": "code",
   "execution_count": 109,
   "id": "6c9492b7-fdaa-402e-8f87-2fc2592a5cbf",
   "metadata": {},
   "outputs": [
    {
     "name": "stdout",
     "output_type": "stream",
     "text": [
      " 1 X 1 = 1\t 2 X 1 = 2\t 3 X 1 = 3\t\n",
      "\n",
      " 1 X 2 = 2\t 2 X 2 = 4\t 3 X 2 = 6\t\n",
      "\n",
      " 1 X 3 = 3\t 2 X 3 = 6\t 3 X 3 = 9\t\n",
      "\n",
      " 1 X 4 = 4\t 2 X 4 = 8\t 3 X 4 = 12\t\n",
      "\n",
      " 1 X 5 = 5\t 2 X 5 = 10\t 3 X 5 = 15\t\n",
      "\n",
      " 1 X 6 = 6\t 2 X 6 = 12\t 3 X 6 = 18\t\n",
      "\n",
      " 1 X 7 = 7\t 2 X 7 = 14\t 3 X 7 = 21\t\n",
      "\n",
      " 1 X 8 = 8\t 2 X 8 = 16\t 3 X 8 = 24\t\n",
      "\n",
      " 1 X 9 = 9\t 2 X 9 = 18\t 3 X 9 = 27\t\n",
      "\n",
      "\n",
      "\n"
     ]
    }
   ],
   "source": [
    "for i in range(1, 10):\n",
    "    for j in range(1, 4):\n",
    "        print(f' {j} X {i} = {i * j}', end='\\t')\n",
    "    print(\"\\n\")\n",
    "print(\"\\n\")"
   ]
  },
  {
   "cell_type": "markdown",
   "id": "7641ad36-b6ad-449f-a6df-0d97e09081d3",
   "metadata": {},
   "source": [
    "# for 반복 문의 형식 : for 변수명 in range(시작하는 수, 마지막 수 + 1, 간격):\n",
    "\n",
    "## 1x1 = 1    2x1 = 2    3x1 = 3\n",
    "## 이렇게 한 줄씩 봤을 때, j가 1~3으로 변화하는 동안 i는 1로 일정하다.\n",
    "## 따라서 변화하는 폭 : i > j이다\n",
    "## 따라서 이중 반복문은 i 변수 - j 변수 순서로 작성해야 한다"
   ]
  },
  {
   "cell_type": "code",
   "execution_count": 117,
   "id": "84e53d7a-495b-40be-9cfa-e6a7caf9d45d",
   "metadata": {},
   "outputs": [
    {
     "name": "stdout",
     "output_type": "stream",
     "text": [
      " 1 X 1 = 1\n",
      " 2 X 1 = 2\n",
      " 3 X 1 = 3\n",
      " 4 X 1 = 4\n",
      " 5 X 1 = 5\n",
      " 6 X 1 = 6\n",
      " 7 X 1 = 7\n",
      " 8 X 1 = 8\n",
      " 9 X 1 = 9\n",
      "\n",
      "\n",
      " 1 X 2 = 2\n",
      " 2 X 2 = 4\n",
      " 3 X 2 = 6\n",
      " 4 X 2 = 8\n",
      " 5 X 2 = 10\n",
      " 6 X 2 = 12\n",
      " 7 X 2 = 14\n",
      " 8 X 2 = 16\n",
      " 9 X 2 = 18\n",
      "\n",
      "\n",
      " 1 X 3 = 3\n",
      " 2 X 3 = 6\n",
      " 3 X 3 = 9\n",
      " 4 X 3 = 12\n",
      " 5 X 3 = 15\n",
      " 6 X 3 = 18\n",
      " 7 X 3 = 21\n",
      " 8 X 3 = 24\n",
      " 9 X 3 = 27\n",
      "\n",
      "\n",
      "\n",
      "\n"
     ]
    }
   ],
   "source": [
    "for i in range(1, 4):\n",
    "    for j in range(1, 10):\n",
    "        print(f' {j} X {i} = {i * j}')\n",
    "    print(\"\\n\")\n",
    "print(\"\\n\")"
   ]
  },
  {
   "cell_type": "code",
   "execution_count": 156,
   "id": "afd01ec8-b061-46cc-8b12-8d3d30e73cc8",
   "metadata": {},
   "outputs": [
    {
     "name": "stdin",
     "output_type": "stream",
     "text": [
      "피라미드의 높이를 입력하세요: 7\n"
     ]
    },
    {
     "name": "stdout",
     "output_type": "stream",
     "text": [
      "1 \n",
      "1 2 \n",
      "1 2 3 \n",
      "1 2 3 4 \n",
      "1 2 3 4 5 \n",
      "1 2 3 4 5 6 \n",
      "1 2 3 4 5 6 7 \n"
     ]
    }
   ],
   "source": [
    "n = int(input('피라미드의 높이를 입력하세요:'))\n",
    "\n",
    "for i in range(1, n + 1 ):\n",
    "    for j in range(1, i + 1):\n",
    "        print( j , end=' ')\n",
    "    print()"
   ]
  },
  {
   "cell_type": "code",
   "execution_count": 141,
   "id": "b3f62457-be12-460b-96b2-79f67d173b79",
   "metadata": {},
   "outputs": [
    {
     "name": "stdout",
     "output_type": "stream",
     "text": [
      "1 \n",
      "1 2 \n",
      "1 2 3 \n",
      "1 2 3 4 \n",
      "1 2 3 4 5 \n",
      "1 2 3 4 5 6 \n",
      "1 2 3 4 5 6 7 \n",
      "1 2 3 4 5 6 7 8 \n",
      "1 2 3 4 5 6 7 8 9 \n"
     ]
    }
   ],
   "source": [
    "for i in range(1, 10):       #1~9까지 가면 끝\n",
    "    for j in range(1, i+1):   # 이중 반복문으로 i 안에서 또 반복되는거임\n",
    "        print(j, end=' ')\n",
    "    print()"
   ]
  },
  {
   "cell_type": "code",
   "execution_count": 145,
   "id": "9362e7b6-ae58-4eef-8843-a8be32eb4d86",
   "metadata": {},
   "outputs": [
    {
     "name": "stdout",
     "output_type": "stream",
     "text": [
      "1\n",
      "\n",
      "1\n",
      "2\n",
      "\n",
      "1\n",
      "2\n",
      "3\n",
      "\n",
      "1\n",
      "2\n",
      "3\n",
      "4\n",
      "\n",
      "1\n",
      "2\n",
      "3\n",
      "4\n",
      "5\n",
      "\n",
      "1\n",
      "2\n",
      "3\n",
      "4\n",
      "5\n",
      "6\n",
      "\n",
      "1\n",
      "2\n",
      "3\n",
      "4\n",
      "5\n",
      "6\n",
      "7\n",
      "\n",
      "1\n",
      "2\n",
      "3\n",
      "4\n",
      "5\n",
      "6\n",
      "7\n",
      "8\n",
      "\n",
      "1\n",
      "2\n",
      "3\n",
      "4\n",
      "5\n",
      "6\n",
      "7\n",
      "8\n",
      "9\n",
      "\n"
     ]
    }
   ],
   "source": [
    "for i in range(1, 10):\n",
    "    for j in range(1, i+1):\n",
    "        print(j)\n",
    "    print()"
   ]
  },
  {
   "cell_type": "markdown",
   "id": "670accc9-7c60-4b93-9ed1-847b4bd557a6",
   "metadata": {},
   "source": [
    "##  * 문제 풀이 구구단 3단씩 나누고 1~9단지지"
   ]
  },
  {
   "cell_type": "code",
   "execution_count": 3,
   "id": "9293f066-c003-4984-8928-0ae3a31184c5",
   "metadata": {},
   "outputs": [
    {
     "name": "stdout",
     "output_type": "stream",
     "text": [
      "\n",
      "   1 단        2 단       3 단\n",
      " 1 X 1 = 1    2 X 1 = 2    3 X 1 = 3\n",
      " 1 X 2 = 2    2 X 2 = 4    3 X 2 = 6\n",
      " 1 X 3 = 3    2 X 3 = 6    3 X 3 = 9\n",
      " 1 X 4 = 4    2 X 4 = 8    3 X 4 = 12\n",
      " 1 X 5 = 5    2 X 5 = 10    3 X 5 = 15\n",
      " 1 X 6 = 6    2 X 6 = 12    3 X 6 = 18\n",
      " 1 X 7 = 7    2 X 7 = 14    3 X 7 = 21\n",
      " 1 X 8 = 8    2 X 8 = 16    3 X 8 = 24\n",
      " 1 X 9 = 9    2 X 9 = 18    3 X 9 = 27\n",
      "\n",
      "   4 단        5 단       6 단\n",
      " 4 X 1 = 4    5 X 1 = 5    6 X 1 = 6\n",
      " 4 X 2 = 8    5 X 2 = 10    6 X 2 = 12\n",
      " 4 X 3 = 12    5 X 3 = 15    6 X 3 = 18\n",
      " 4 X 4 = 16    5 X 4 = 20    6 X 4 = 24\n",
      " 4 X 5 = 20    5 X 5 = 25    6 X 5 = 30\n",
      " 4 X 6 = 24    5 X 6 = 30    6 X 6 = 36\n",
      " 4 X 7 = 28    5 X 7 = 35    6 X 7 = 42\n",
      " 4 X 8 = 32    5 X 8 = 40    6 X 8 = 48\n",
      " 4 X 9 = 36    5 X 9 = 45    6 X 9 = 54\n",
      "\n",
      "   7 단        8 단       9 단\n",
      " 7 X 1 = 7    8 X 1 = 8    9 X 1 = 9\n",
      " 7 X 2 = 14    8 X 2 = 16    9 X 2 = 18\n",
      " 7 X 3 = 21    8 X 3 = 24    9 X 3 = 27\n",
      " 7 X 4 = 28    8 X 4 = 32    9 X 4 = 36\n",
      " 7 X 5 = 35    8 X 5 = 40    9 X 5 = 45\n",
      " 7 X 6 = 42    8 X 6 = 48    9 X 6 = 54\n",
      " 7 X 7 = 49    8 X 7 = 56    9 X 7 = 63\n",
      " 7 X 8 = 56    8 X 8 = 64    9 X 8 = 72\n",
      " 7 X 9 = 63    8 X 9 = 72    9 X 9 = 81\n"
     ]
    }
   ],
   "source": [
    "for i in range(1, 10, 3):\n",
    "    print(f'\\n   {i} 단        {i+1} 단       {i+2} 단')\n",
    "    for j in range(1, 10):\n",
    "        print(f' {i} X {j} = {i * j}    {i+1} X {j} = {(i+1) * j}    {i+2} X {j} = {(i+2) * j}')"
   ]
  },
  {
   "cell_type": "code",
   "execution_count": 4,
   "id": "eaf1aa3b-f3c0-4bf1-ac9a-b8a1d45dc9b0",
   "metadata": {},
   "outputs": [
    {
     "name": "stdout",
     "output_type": "stream",
     "text": [
      "\n",
      "   1 단        2 단       3 단\n",
      "\n",
      "   4 단        5 단       6 단\n",
      "\n",
      "   7 단        8 단       9 단\n"
     ]
    }
   ],
   "source": [
    "for i in range(1, 10, 3):\n",
    "    print(f'\\n   {i} 단        {i+1} 단       {i+2} 단')"
   ]
  },
  {
   "cell_type": "markdown",
   "id": "6d816102-0d2c-4457-af9c-75fbe04e4eaf",
   "metadata": {},
   "source": [
    "#  원 6개 그리기"
   ]
  },
  {
   "cell_type": "code",
   "execution_count": 5,
   "id": "59994ad5-c4ae-48a2-a922-4d8a661f3081",
   "metadata": {},
   "outputs": [],
   "source": [
    "import turtle"
   ]
  },
  {
   "cell_type": "code",
   "execution_count": 6,
   "id": "b3bbeda4-c34a-408d-9a6e-bf9c19ebd996",
   "metadata": {},
   "outputs": [],
   "source": [
    "t = turtle.Turtle()\n",
    "t.circle(100)            # 반지름이 100인 원을 그려라\n",
    "t.left(60)               # 각도를 왼쪽으로 60도만큼 회전\n",
    "t.circle(100)            \n",
    "t.left(60)\n",
    "t.circle(100)            \n",
    "t.left(60)\n",
    "t.circle(100)            \n",
    "t.left(60)\n",
    "t.circle(100)            \n",
    "t.left(60)\n",
    "t.circle(100)            \n",
    "t.left(60)\n",
    "\n",
    "turtle.exitonclick()"
   ]
  },
  {
   "cell_type": "code",
   "execution_count": 9,
   "id": "a968af79-220e-4cda-9e7c-918d0d1823a0",
   "metadata": {},
   "outputs": [],
   "source": [
    "# 위에꺼 간단히 하기\n",
    "\n",
    "import turtle\n",
    "t = turtle.Turtle()\n",
    "\n",
    "for _ in range(6):\n",
    "  t.circle(100)            \n",
    "  t.left(60)\n",
    "\n",
    "turtle.exitonclick()"
   ]
  },
  {
   "cell_type": "markdown",
   "id": "227bcbf4-09d0-49ba-868c-38658e767391",
   "metadata": {},
   "source": [
    "# n 각형을 그리기\n",
    "- 사용자로부터 정수 n (3 이상) 을 입력받아서 한변의 길이가 100인 정 n각형을 그리는 프로그램 작성"
   ]
  },
  {
   "cell_type": "code",
   "execution_count": null,
   "id": "1f8cba2f-59bd-4282-97c3-cdf894e18fa6",
   "metadata": {},
   "outputs": [
    {
     "name": "stdin",
     "output_type": "stream",
     "text": [
      "3이상의 정수를 입력 하시오 4\n"
     ]
    }
   ],
   "source": [
    "import turtle\n",
    "import time\n",
    "t = turtle.Turtle()\n",
    "\n",
    "n = int(input('3이상의 정수를 입력 하시오'))\n",
    "\n",
    "for _ in range(n):\n",
    "    time.sleep(1)\n",
    "    t.forward(100)\n",
    "    t.left(360 / n)\n",
    "\n",
    "turtle.exitonclick()\n",
    "\n",
    "del t\n",
    "try:\n",
    "    turtle.bye()\n",
    "except:\n",
    "    pass"
   ]
  },
  {
   "cell_type": "code",
   "execution_count": 7,
   "id": "3b978306-8d05-4770-8e7d-d599bfd7ff14",
   "metadata": {},
   "outputs": [],
   "source": [
    "# 별그리기\n",
    "\n",
    "import turtle\n",
    "import time\n",
    "t = turtle.Turtle()\n",
    "\n",
    "for _ in range(5):\n",
    "    time.sleep(1)\n",
    "    t.forward(200)\n",
    "    t.left((360 / 5)*2)\n",
    "\n",
    "t.right(72)\n",
    "t.circle(100)\n",
    "\n",
    "turtle.exitonclick()\n",
    "\n",
    "del t\n",
    "try:\n",
    "    turtle.bye()\n",
    "except:\n",
    "    pass\n"
   ]
  },
  {
   "cell_type": "code",
   "execution_count": null,
   "id": "139dfae3-7141-471f-b097-b12e0536f986",
   "metadata": {},
   "outputs": [],
   "source": []
  },
  {
   "cell_type": "code",
   "execution_count": null,
   "id": "2bb3afe3-1ed5-4367-9102-0daa78a46944",
   "metadata": {},
   "outputs": [],
   "source": []
  }
 ],
 "metadata": {
  "kernelspec": {
   "display_name": "Python 3 (ipykernel)",
   "language": "python",
   "name": "python3"
  },
  "language_info": {
   "codemirror_mode": {
    "name": "ipython",
    "version": 3
   },
   "file_extension": ".py",
   "mimetype": "text/x-python",
   "name": "python",
   "nbconvert_exporter": "python",
   "pygments_lexer": "ipython3",
   "version": "3.12.8"
  }
 },
 "nbformat": 4,
 "nbformat_minor": 5
}
